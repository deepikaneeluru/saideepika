{
 "cells": [
  {
   "cell_type": "markdown",
   "metadata": {},
   "source": [
    "# SAMPLE CNN ARCHITECTURE IMPLEMENTED FOR MUSIC AUTO TAGGING"
   ]
  },
  {
   "cell_type": "markdown",
   "metadata": {},
   "source": [
    "## Importing Libraries"
   ]
  },
  {
   "cell_type": "code",
   "execution_count": 3,
   "metadata": {},
   "outputs": [
    {
     "name": "stderr",
     "output_type": "stream",
     "text": [
      "Using TensorFlow backend.\n"
     ]
    }
   ],
   "source": [
    "import numpy as np\n",
    "import tensorflow as tf\n",
    "\n",
    "from keras.models import load_model\n",
    "import wave\n",
    "import os\n",
    "import glob\n",
    "import librosa\n",
    "import numpy as np\n",
    "import scipy.io.wavfile as wav\n",
    "import scipy.signal as signal\n",
    "import matplotlib.pyplot as plt\n",
    "import keras\n",
    "from keras.models import Sequential\n",
    "from keras.layers import (Conv1D, MaxPool1D, BatchNormalization, GlobalAvgPool1D, Multiply, GlobalMaxPool1D,\n",
    "                                     Dense, Dropout, Activation, Reshape, Concatenate, Add)\n",
    "from keras.layers import Input\n",
    "from keras.utils import np_utils\n",
    "from keras.layers import MaxPooling2D\n",
    "from keras.layers import Flatten\n",
    "from keras.layers import Dense\n",
    "from keras.models import load_model\n",
    "import pandas as pd\n",
    "from tensorflow.keras import Model\n",
    "from keras.layers import InputLayer"
   ]
  },
  {
   "cell_type": "markdown",
   "metadata": {},
   "source": [
    "## SAMPLE CNN ARCHITECTURE AS PROPOSED BY JONGPIL LEE"
   ]
  },
  {
   "cell_type": "code",
   "execution_count": 4,
   "metadata": {},
   "outputs": [
    {
     "name": "stdout",
     "output_type": "stream",
     "text": [
      "Model: \"sequential_1\"\n",
      "_________________________________________________________________\n",
      "Layer (type)                 Output Shape              Param #   \n",
      "=================================================================\n",
      "conv1d_1 (Conv1D)            (None, 59049, 128)        512       \n",
      "_________________________________________________________________\n",
      "batch_normalization_1 (Batch (None, 59049, 128)        512       \n",
      "_________________________________________________________________\n",
      "activation_1 (Activation)    (None, 59049, 128)        0         \n",
      "_________________________________________________________________\n",
      "max_pooling1d_1 (MaxPooling1 (None, 19683, 128)        0         \n",
      "_________________________________________________________________\n",
      "conv1d_2 (Conv1D)            (None, 19683, 128)        49280     \n",
      "_________________________________________________________________\n",
      "batch_normalization_2 (Batch (None, 19683, 128)        512       \n",
      "_________________________________________________________________\n",
      "activation_2 (Activation)    (None, 19683, 128)        0         \n",
      "_________________________________________________________________\n",
      "max_pooling1d_2 (MaxPooling1 (None, 6561, 128)         0         \n",
      "_________________________________________________________________\n",
      "conv1d_3 (Conv1D)            (None, 6561, 128)         49280     \n",
      "_________________________________________________________________\n",
      "batch_normalization_3 (Batch (None, 6561, 128)         512       \n",
      "_________________________________________________________________\n",
      "activation_3 (Activation)    (None, 6561, 128)         0         \n",
      "_________________________________________________________________\n",
      "max_pooling1d_3 (MaxPooling1 (None, 2187, 128)         0         \n",
      "_________________________________________________________________\n",
      "conv1d_4 (Conv1D)            (None, 2187, 256)         98560     \n",
      "_________________________________________________________________\n",
      "batch_normalization_4 (Batch (None, 2187, 256)         1024      \n",
      "_________________________________________________________________\n",
      "activation_4 (Activation)    (None, 2187, 256)         0         \n",
      "_________________________________________________________________\n",
      "max_pooling1d_4 (MaxPooling1 (None, 729, 256)          0         \n",
      "_________________________________________________________________\n",
      "conv1d_5 (Conv1D)            (None, 729, 256)          196864    \n",
      "_________________________________________________________________\n",
      "batch_normalization_5 (Batch (None, 729, 256)          1024      \n",
      "_________________________________________________________________\n",
      "activation_5 (Activation)    (None, 729, 256)          0         \n",
      "_________________________________________________________________\n",
      "max_pooling1d_5 (MaxPooling1 (None, 243, 256)          0         \n",
      "_________________________________________________________________\n",
      "conv1d_6 (Conv1D)            (None, 243, 256)          196864    \n",
      "_________________________________________________________________\n",
      "batch_normalization_6 (Batch (None, 243, 256)          1024      \n",
      "_________________________________________________________________\n",
      "activation_6 (Activation)    (None, 243, 256)          0         \n",
      "_________________________________________________________________\n",
      "max_pooling1d_6 (MaxPooling1 (None, 81, 256)           0         \n",
      "_________________________________________________________________\n",
      "conv1d_7 (Conv1D)            (None, 81, 256)           196864    \n",
      "_________________________________________________________________\n",
      "batch_normalization_7 (Batch (None, 81, 256)           1024      \n",
      "_________________________________________________________________\n",
      "activation_7 (Activation)    (None, 81, 256)           0         \n",
      "_________________________________________________________________\n",
      "max_pooling1d_7 (MaxPooling1 (None, 27, 256)           0         \n",
      "_________________________________________________________________\n",
      "conv1d_8 (Conv1D)            (None, 27, 256)           196864    \n",
      "_________________________________________________________________\n",
      "batch_normalization_8 (Batch (None, 27, 256)           1024      \n",
      "_________________________________________________________________\n",
      "activation_8 (Activation)    (None, 27, 256)           0         \n",
      "_________________________________________________________________\n",
      "max_pooling1d_8 (MaxPooling1 (None, 9, 256)            0         \n",
      "_________________________________________________________________\n",
      "conv1d_9 (Conv1D)            (None, 9, 256)            196864    \n",
      "_________________________________________________________________\n",
      "batch_normalization_9 (Batch (None, 9, 256)            1024      \n",
      "_________________________________________________________________\n",
      "activation_9 (Activation)    (None, 9, 256)            0         \n",
      "_________________________________________________________________\n",
      "max_pooling1d_9 (MaxPooling1 (None, 3, 256)            0         \n",
      "_________________________________________________________________\n",
      "conv1d_10 (Conv1D)           (None, 3, 512)            393728    \n",
      "_________________________________________________________________\n",
      "batch_normalization_10 (Batc (None, 3, 512)            2048      \n",
      "_________________________________________________________________\n",
      "activation_10 (Activation)   (None, 3, 512)            0         \n",
      "_________________________________________________________________\n",
      "max_pooling1d_10 (MaxPooling (None, 1, 512)            0         \n",
      "_________________________________________________________________\n",
      "conv1d_11 (Conv1D)           (None, 1, 512)            262656    \n",
      "_________________________________________________________________\n",
      "batch_normalization_11 (Batc (None, 1, 512)            2048      \n",
      "_________________________________________________________________\n",
      "activation_11 (Activation)   (None, 1, 512)            0         \n",
      "_________________________________________________________________\n",
      "dropout_1 (Dropout)          (None, 1, 512)            0         \n",
      "_________________________________________________________________\n",
      "flatten_1 (Flatten)          (None, 512)               0         \n",
      "_________________________________________________________________\n",
      "dense_1 (Dense)              (None, 50)                25650     \n",
      "=================================================================\n",
      "Total params: 1,875,762\n",
      "Trainable params: 1,869,874\n",
      "Non-trainable params: 5,888\n",
      "_________________________________________________________________\n"
     ]
    }
   ],
   "source": [
    "\n",
    "    kernel_initializer=tf.keras.initializers.GlorotUniform()\n",
    "    activation=keras.activations.relu\n",
    "    dropout_rate=0.1\n",
    "    classifier = keras.Sequential()\n",
    "    # 59049 X 1\n",
    "    classifier.add(InputLayer(input_shape=(59049,1)))\n",
    "    classifier.add(Conv1D(filters=128,kernel_size=3, padding='same'))\n",
    "    classifier.add(BatchNormalization())\n",
    "    classifier.add(Activation(activation))\n",
    "    classifier.add(MaxPool1D(3))\n",
    "\n",
    "    # 19683 X 128\n",
    "    classifier.add(Conv1D(filters=128, kernel_size=3, padding='same'))\n",
    "    classifier.add(BatchNormalization())\n",
    "    classifier.add(Activation(activation))\n",
    "    classifier.add(MaxPool1D(3))\n",
    "    # 6561 X 128\n",
    "    classifier.add(Conv1D(128, 3, padding='same'))\n",
    "    classifier.add(BatchNormalization())\n",
    "    classifier.add(Activation(activation))\n",
    "    classifier.add(MaxPool1D(3))\n",
    "    # 2187 X 128\n",
    "    classifier.add(Conv1D(256, 3, padding='same'))\n",
    "    classifier.add(BatchNormalization())\n",
    "    classifier.add(Activation(activation))\n",
    "    classifier.add(MaxPool1D(3))\n",
    "    # 729 X 256\n",
    "    classifier.add(Conv1D(256, 3, padding='same'))\n",
    "    classifier.add(BatchNormalization())\n",
    "    classifier.add(Activation(activation))\n",
    "    classifier.add(MaxPool1D(3))\n",
    "    # 243 X 256\n",
    "    classifier.add(Conv1D(256, 3, padding='same'))\n",
    "    classifier.add(BatchNormalization())\n",
    "    classifier.add(Activation(activation))\n",
    "    classifier.add(MaxPool1D(3))\n",
    "    # 81 X 256\n",
    "    classifier.add(Conv1D(256, 3, padding='same'))\n",
    "    classifier.add(BatchNormalization())\n",
    "    classifier.add(Activation(activation))\n",
    "    classifier.add(MaxPool1D(3))\n",
    "    # 27 X 256\n",
    "    classifier.add(Conv1D(256, 3, padding='same'))\n",
    "    classifier.add(BatchNormalization())\n",
    "    classifier.add(Activation(activation))\n",
    "    classifier.add(MaxPool1D(3))\n",
    "    # 9 X 256\n",
    "    classifier.add(Conv1D(256, 3, padding='same'))\n",
    "    classifier.add(BatchNormalization())\n",
    "    classifier.add(Activation(activation))\n",
    "    classifier.add(MaxPool1D(3))\n",
    "    # 3 X 256\n",
    "    classifier.add(Conv1D(512, 3, padding='same'))\n",
    "    classifier.add(BatchNormalization())\n",
    "    classifier.add(Activation(activation))\n",
    "    classifier.add( MaxPool1D(3))\n",
    "    # 1 X 512\n",
    "    classifier.add(Conv1D(512, 1, padding='same'))\n",
    "    classifier.add(BatchNormalization())\n",
    "    classifier.add(Activation(activation))\n",
    "    # 1 X 512\n",
    "    classifier.add(Dropout(dropout_rate))\n",
    "    classifier.add(Flatten())\n",
    "    classifier.add(Dense(units=50, activation='sigmoid'))\n",
    "    classifier.summary()\n"
   ]
  },
  {
   "cell_type": "markdown",
   "metadata": {},
   "source": [
    "## TRAINING"
   ]
  },
  {
   "cell_type": "markdown",
   "metadata": {},
   "source": [
    "### Reshaping the training data to fit specifications of CONV1D"
   ]
  },
  {
   "cell_type": "markdown",
   "metadata": {},
   "source": [
    "#### conv1d(batch_size,time_steps,input_dimensions)"
   ]
  },
  {
   "cell_type": "code",
   "execution_count": 8,
   "metadata": {},
   "outputs": [],
   "source": [
    "from numpy import array\n",
    "path =\"/Users/noelalben/Desktop/VTU_PROJ/music_autotagging/songs_in_order\"\n",
    "X=[]\n",
    "for filename in glob.glob(os.path.join(path, '*.wav')):\n",
    "    x, fs = librosa.load(filename)\n",
    "    temp=x[0:59049]\n",
    "    y=[]\n",
    "    y=temp.tolist()\n",
    "    X.append(y)\n",
    "len(X)\n",
    "X=array(X)\n",
    "type(X)\n",
    "X[0].shape\n",
    "X[0]\n",
    "sample_size=X.shape[0]\n",
    "time_steps=X.shape[1]\n",
    "input_dim=1\n",
    "X_reshaped=X.reshape(sample_size,time_steps,input_dim)"
   ]
  },
  {
   "cell_type": "code",
   "execution_count": 9,
   "metadata": {
    "collapsed": true,
    "jupyter": {
     "outputs_hidden": true
    }
   },
   "outputs": [
    {
     "data": {
      "text/plain": [
       "(30, 59049, 1)"
      ]
     },
     "execution_count": 9,
     "metadata": {},
     "output_type": "execute_result"
    }
   ],
   "source": [
    "X_reshaped.shape"
   ]
  },
  {
   "cell_type": "markdown",
   "metadata": {},
   "source": [
    "## (30, 59049, 1)"
   ]
  },
  {
   "cell_type": "markdown",
   "metadata": {},
   "source": [
    "### Acquiring outputs to train the model for 30 songs"
   ]
  },
  {
   "cell_type": "code",
   "execution_count": 11,
   "metadata": {},
   "outputs": [],
   "source": [
    "out=pd.read_csv('/Users/noelalben/Desktop/VTU_PROJ/music_autotagging/soundoutput.csv')\n",
    "out=out.to_numpy()"
   ]
  },
  {
   "cell_type": "markdown",
   "metadata": {},
   "source": [
    "### Splitting the data into Training data and test data"
   ]
  },
  {
   "cell_type": "code",
   "execution_count": 30,
   "metadata": {},
   "outputs": [],
   "source": [
    "from sklearn.model_selection import train_test_split\n",
    "X_train, X_test, y_train, y_test = train_test_split(X_reshaped, out, test_size=0.2, random_state=42)"
   ]
  },
  {
   "cell_type": "markdown",
   "metadata": {},
   "source": [
    "### Adding a loss function and training the model"
   ]
  },
  {
   "cell_type": "code",
   "execution_count": 15,
   "metadata": {},
   "outputs": [],
   "source": [
    "classifier.compile(loss='mse', optimizer='adam')"
   ]
  },
  {
   "cell_type": "code",
   "execution_count": 16,
   "metadata": {},
   "outputs": [
    {
     "name": "stdout",
     "output_type": "stream",
     "text": [
      "Epoch 1/5\n",
      "24/24 [==============================] - 52s 2s/step - loss: 0.2987\n",
      "Epoch 2/5\n",
      "24/24 [==============================] - 31s 1s/step - loss: 0.2471\n",
      "Epoch 3/5\n",
      "24/24 [==============================] - 26s 1s/step - loss: 0.2050\n",
      "Epoch 4/5\n",
      "24/24 [==============================] - 24s 1s/step - loss: 0.1705\n",
      "Epoch 5/5\n",
      "24/24 [==============================] - 28s 1s/step - loss: 0.1417\n"
     ]
    },
    {
     "data": {
      "text/plain": [
       "<keras.callbacks.callbacks.History at 0x1a4f7f5f60>"
      ]
     },
     "execution_count": 16,
     "metadata": {},
     "output_type": "execute_result"
    }
   ],
   "source": [
    "classifier.fit(X_train,y_train,epochs=5)"
   ]
  },
  {
   "cell_type": "markdown",
   "metadata": {},
   "source": [
    "## TESTING THE MODEL"
   ]
  },
  {
   "cell_type": "markdown",
   "metadata": {},
   "source": [
    "### Loading test audio"
   ]
  },
  {
   "cell_type": "code",
   "execution_count": 18,
   "metadata": {},
   "outputs": [
    {
     "name": "stderr",
     "output_type": "stream",
     "text": [
      "/Users/noelalben/opt/anaconda3/envs/TensorFlow/lib/python3.6/site-packages/librosa/core/audio.py:162: UserWarning: PySoundFile failed. Trying audioread instead.\n",
      "  warnings.warn(\"PySoundFile failed. Trying audioread instead.\")\n"
     ]
    },
    {
     "data": {
      "text/plain": [
       "[<matplotlib.lines.Line2D at 0x1a4eef0b00>]"
      ]
     },
     "execution_count": 18,
     "metadata": {},
     "output_type": "execute_result"
    },
    {
     "data": {
      "image/png": "[encoded data removed]",
      "text/plain": [
       "<Figure size 432x288 with 1 Axes>"
      ]
     },
     "metadata": {
      "needs_background": "light"
     },
     "output_type": "display_data"
    }
   ],
   "source": [
    "song,fs=librosa.load('/Users/noelalben/Desktop/VTU_PROJ/music_autotagging/songs_in_order/35.mp3')\n",
    "song=song[0:59049]\n",
    "song1=np.array(song)\n",
    "song1=song1.reshape(1,59049,1)\n",
    "song1.shape\n",
    "plt.plot(song)\n",
    "\n"
   ]
  },
  {
   "cell_type": "code",
   "execution_count": 19,
   "metadata": {},
   "outputs": [],
   "source": [
    "predi=classifier.predict(song1)\n",
    "predi = np.where(predi>0.5,1,0)"
   ]
  },
  {
   "cell_type": "markdown",
   "metadata": {},
   "source": [
    "### Our Sample CNN's prediction of tags for the loaded audio"
   ]
  },
  {
   "cell_type": "code",
   "execution_count": 31,
   "metadata": {},
   "outputs": [
    {
     "data": {
      "text/plain": [
       "array([[0, 0, 0, 0, 0, 0, 0, 0, 0, 0, 0, 0, 0, 0, 0, 0, 0, 0, 0, 0, 0, 0,\n",
       "        0, 0, 0, 0, 0, 0, 0, 0, 0, 0, 1, 0, 0, 0, 0, 0, 0, 0, 0, 0, 0, 0,\n",
       "        0, 0, 0, 0, 0, 0]])"
      ]
     },
     "execution_count": 31,
     "metadata": {},
     "output_type": "execute_result"
    }
   ],
   "source": [
    "predi"
   ]
  },
  {
   "cell_type": "markdown",
   "metadata": {},
   "source": [
    "## EVALUATING OUR PREDICTION"
   ]
  },
  {
   "cell_type": "markdown",
   "metadata": {},
   "source": [
    "### Original Dataset audio tags"
   ]
  },
  {
   "cell_type": "code",
   "execution_count": 21,
   "metadata": {},
   "outputs": [
    {
     "data": {
      "text/html": [
       "<div>\n",
       "<style scoped>\n",
       "    .dataframe tbody tr th:only-of-type {\n",
       "        vertical-align: middle;\n",
       "    }\n",
       "\n",
       "    .dataframe tbody tr th {\n",
       "        vertical-align: top;\n",
       "    }\n",
       "\n",
       "    .dataframe thead th {\n",
       "        text-align: right;\n",
       "    }\n",
       "</style>\n",
       "<table border=\"1\" class=\"dataframe\">\n",
       "  <thead>\n",
       "    <tr style=\"text-align: right;\">\n",
       "      <th></th>\n",
       "      <th>choral</th>\n",
       "      <th>female voice</th>\n",
       "      <th>metal</th>\n",
       "      <th>country</th>\n",
       "      <th>weird</th>\n",
       "      <th>no voice</th>\n",
       "      <th>cello</th>\n",
       "      <th>harp</th>\n",
       "      <th>beats</th>\n",
       "      <th>female vocal</th>\n",
       "      <th>...</th>\n",
       "      <th>piano</th>\n",
       "      <th>fast</th>\n",
       "      <th>rock</th>\n",
       "      <th>electronic</th>\n",
       "      <th>drums</th>\n",
       "      <th>strings</th>\n",
       "      <th>techno</th>\n",
       "      <th>slow</th>\n",
       "      <th>classical</th>\n",
       "      <th>guitar</th>\n",
       "    </tr>\n",
       "  </thead>\n",
       "  <tbody>\n",
       "    <tr>\n",
       "      <th>0</th>\n",
       "      <td>0</td>\n",
       "      <td>0</td>\n",
       "      <td>0</td>\n",
       "      <td>0</td>\n",
       "      <td>0</td>\n",
       "      <td>0</td>\n",
       "      <td>0</td>\n",
       "      <td>0</td>\n",
       "      <td>0</td>\n",
       "      <td>0</td>\n",
       "      <td>...</td>\n",
       "      <td>0</td>\n",
       "      <td>0</td>\n",
       "      <td>0</td>\n",
       "      <td>0</td>\n",
       "      <td>0</td>\n",
       "      <td>1</td>\n",
       "      <td>0</td>\n",
       "      <td>0</td>\n",
       "      <td>1</td>\n",
       "      <td>0</td>\n",
       "    </tr>\n",
       "    <tr>\n",
       "      <th>1</th>\n",
       "      <td>0</td>\n",
       "      <td>0</td>\n",
       "      <td>0</td>\n",
       "      <td>0</td>\n",
       "      <td>0</td>\n",
       "      <td>0</td>\n",
       "      <td>0</td>\n",
       "      <td>0</td>\n",
       "      <td>0</td>\n",
       "      <td>0</td>\n",
       "      <td>...</td>\n",
       "      <td>0</td>\n",
       "      <td>0</td>\n",
       "      <td>0</td>\n",
       "      <td>0</td>\n",
       "      <td>0</td>\n",
       "      <td>1</td>\n",
       "      <td>0</td>\n",
       "      <td>0</td>\n",
       "      <td>1</td>\n",
       "      <td>0</td>\n",
       "    </tr>\n",
       "    <tr>\n",
       "      <th>2</th>\n",
       "      <td>0</td>\n",
       "      <td>0</td>\n",
       "      <td>0</td>\n",
       "      <td>0</td>\n",
       "      <td>0</td>\n",
       "      <td>0</td>\n",
       "      <td>0</td>\n",
       "      <td>0</td>\n",
       "      <td>0</td>\n",
       "      <td>0</td>\n",
       "      <td>...</td>\n",
       "      <td>0</td>\n",
       "      <td>0</td>\n",
       "      <td>0</td>\n",
       "      <td>0</td>\n",
       "      <td>0</td>\n",
       "      <td>0</td>\n",
       "      <td>0</td>\n",
       "      <td>0</td>\n",
       "      <td>1</td>\n",
       "      <td>0</td>\n",
       "    </tr>\n",
       "    <tr>\n",
       "      <th>3</th>\n",
       "      <td>0</td>\n",
       "      <td>0</td>\n",
       "      <td>0</td>\n",
       "      <td>0</td>\n",
       "      <td>0</td>\n",
       "      <td>0</td>\n",
       "      <td>0</td>\n",
       "      <td>0</td>\n",
       "      <td>0</td>\n",
       "      <td>0</td>\n",
       "      <td>...</td>\n",
       "      <td>0</td>\n",
       "      <td>0</td>\n",
       "      <td>0</td>\n",
       "      <td>0</td>\n",
       "      <td>0</td>\n",
       "      <td>0</td>\n",
       "      <td>0</td>\n",
       "      <td>0</td>\n",
       "      <td>0</td>\n",
       "      <td>0</td>\n",
       "    </tr>\n",
       "    <tr>\n",
       "      <th>4</th>\n",
       "      <td>0</td>\n",
       "      <td>0</td>\n",
       "      <td>0</td>\n",
       "      <td>0</td>\n",
       "      <td>0</td>\n",
       "      <td>0</td>\n",
       "      <td>0</td>\n",
       "      <td>0</td>\n",
       "      <td>0</td>\n",
       "      <td>0</td>\n",
       "      <td>...</td>\n",
       "      <td>0</td>\n",
       "      <td>0</td>\n",
       "      <td>0</td>\n",
       "      <td>0</td>\n",
       "      <td>0</td>\n",
       "      <td>1</td>\n",
       "      <td>0</td>\n",
       "      <td>0</td>\n",
       "      <td>1</td>\n",
       "      <td>0</td>\n",
       "    </tr>\n",
       "    <tr>\n",
       "      <th>...</th>\n",
       "      <td>...</td>\n",
       "      <td>...</td>\n",
       "      <td>...</td>\n",
       "      <td>...</td>\n",
       "      <td>...</td>\n",
       "      <td>...</td>\n",
       "      <td>...</td>\n",
       "      <td>...</td>\n",
       "      <td>...</td>\n",
       "      <td>...</td>\n",
       "      <td>...</td>\n",
       "      <td>...</td>\n",
       "      <td>...</td>\n",
       "      <td>...</td>\n",
       "      <td>...</td>\n",
       "      <td>...</td>\n",
       "      <td>...</td>\n",
       "      <td>...</td>\n",
       "      <td>...</td>\n",
       "      <td>...</td>\n",
       "      <td>...</td>\n",
       "    </tr>\n",
       "    <tr>\n",
       "      <th>25858</th>\n",
       "      <td>0</td>\n",
       "      <td>0</td>\n",
       "      <td>0</td>\n",
       "      <td>0</td>\n",
       "      <td>0</td>\n",
       "      <td>0</td>\n",
       "      <td>0</td>\n",
       "      <td>0</td>\n",
       "      <td>0</td>\n",
       "      <td>0</td>\n",
       "      <td>...</td>\n",
       "      <td>0</td>\n",
       "      <td>0</td>\n",
       "      <td>0</td>\n",
       "      <td>0</td>\n",
       "      <td>0</td>\n",
       "      <td>0</td>\n",
       "      <td>0</td>\n",
       "      <td>0</td>\n",
       "      <td>0</td>\n",
       "      <td>1</td>\n",
       "    </tr>\n",
       "    <tr>\n",
       "      <th>25859</th>\n",
       "      <td>0</td>\n",
       "      <td>0</td>\n",
       "      <td>0</td>\n",
       "      <td>0</td>\n",
       "      <td>0</td>\n",
       "      <td>0</td>\n",
       "      <td>0</td>\n",
       "      <td>1</td>\n",
       "      <td>0</td>\n",
       "      <td>0</td>\n",
       "      <td>...</td>\n",
       "      <td>0</td>\n",
       "      <td>0</td>\n",
       "      <td>0</td>\n",
       "      <td>0</td>\n",
       "      <td>0</td>\n",
       "      <td>1</td>\n",
       "      <td>0</td>\n",
       "      <td>1</td>\n",
       "      <td>0</td>\n",
       "      <td>1</td>\n",
       "    </tr>\n",
       "    <tr>\n",
       "      <th>25860</th>\n",
       "      <td>0</td>\n",
       "      <td>0</td>\n",
       "      <td>0</td>\n",
       "      <td>0</td>\n",
       "      <td>0</td>\n",
       "      <td>0</td>\n",
       "      <td>0</td>\n",
       "      <td>0</td>\n",
       "      <td>0</td>\n",
       "      <td>0</td>\n",
       "      <td>...</td>\n",
       "      <td>0</td>\n",
       "      <td>0</td>\n",
       "      <td>0</td>\n",
       "      <td>0</td>\n",
       "      <td>0</td>\n",
       "      <td>1</td>\n",
       "      <td>0</td>\n",
       "      <td>1</td>\n",
       "      <td>1</td>\n",
       "      <td>1</td>\n",
       "    </tr>\n",
       "    <tr>\n",
       "      <th>25861</th>\n",
       "      <td>0</td>\n",
       "      <td>0</td>\n",
       "      <td>0</td>\n",
       "      <td>0</td>\n",
       "      <td>0</td>\n",
       "      <td>0</td>\n",
       "      <td>0</td>\n",
       "      <td>0</td>\n",
       "      <td>0</td>\n",
       "      <td>0</td>\n",
       "      <td>...</td>\n",
       "      <td>0</td>\n",
       "      <td>0</td>\n",
       "      <td>0</td>\n",
       "      <td>0</td>\n",
       "      <td>0</td>\n",
       "      <td>0</td>\n",
       "      <td>0</td>\n",
       "      <td>1</td>\n",
       "      <td>1</td>\n",
       "      <td>1</td>\n",
       "    </tr>\n",
       "    <tr>\n",
       "      <th>25862</th>\n",
       "      <td>0</td>\n",
       "      <td>0</td>\n",
       "      <td>0</td>\n",
       "      <td>0</td>\n",
       "      <td>0</td>\n",
       "      <td>0</td>\n",
       "      <td>0</td>\n",
       "      <td>0</td>\n",
       "      <td>0</td>\n",
       "      <td>0</td>\n",
       "      <td>...</td>\n",
       "      <td>0</td>\n",
       "      <td>0</td>\n",
       "      <td>0</td>\n",
       "      <td>0</td>\n",
       "      <td>0</td>\n",
       "      <td>0</td>\n",
       "      <td>0</td>\n",
       "      <td>1</td>\n",
       "      <td>1</td>\n",
       "      <td>1</td>\n",
       "    </tr>\n",
       "  </tbody>\n",
       "</table>\n",
       "<p>25863 rows × 50 columns</p>\n",
       "</div>"
      ],
      "text/plain": [
       "       choral  female voice  metal  country  weird  no voice  cello  harp  \\\n",
       "0           0             0      0        0      0         0      0     0   \n",
       "1           0             0      0        0      0         0      0     0   \n",
       "2           0             0      0        0      0         0      0     0   \n",
       "3           0             0      0        0      0         0      0     0   \n",
       "4           0             0      0        0      0         0      0     0   \n",
       "...       ...           ...    ...      ...    ...       ...    ...   ...   \n",
       "25858       0             0      0        0      0         0      0     0   \n",
       "25859       0             0      0        0      0         0      0     1   \n",
       "25860       0             0      0        0      0         0      0     0   \n",
       "25861       0             0      0        0      0         0      0     0   \n",
       "25862       0             0      0        0      0         0      0     0   \n",
       "\n",
       "       beats  female vocal  ...  piano  fast  rock  electronic  drums  \\\n",
       "0          0             0  ...      0     0     0           0      0   \n",
       "1          0             0  ...      0     0     0           0      0   \n",
       "2          0             0  ...      0     0     0           0      0   \n",
       "3          0             0  ...      0     0     0           0      0   \n",
       "4          0             0  ...      0     0     0           0      0   \n",
       "...      ...           ...  ...    ...   ...   ...         ...    ...   \n",
       "25858      0             0  ...      0     0     0           0      0   \n",
       "25859      0             0  ...      0     0     0           0      0   \n",
       "25860      0             0  ...      0     0     0           0      0   \n",
       "25861      0             0  ...      0     0     0           0      0   \n",
       "25862      0             0  ...      0     0     0           0      0   \n",
       "\n",
       "       strings  techno  slow  classical  guitar  \n",
       "0            1       0     0          1       0  \n",
       "1            1       0     0          1       0  \n",
       "2            0       0     0          1       0  \n",
       "3            0       0     0          0       0  \n",
       "4            1       0     0          1       0  \n",
       "...        ...     ...   ...        ...     ...  \n",
       "25858        0       0     0          0       1  \n",
       "25859        1       0     1          0       1  \n",
       "25860        1       0     1          1       1  \n",
       "25861        0       0     1          1       1  \n",
       "25862        0       0     1          1       1  \n",
       "\n",
       "[25863 rows x 50 columns]"
      ]
     },
     "execution_count": 21,
     "metadata": {},
     "output_type": "execute_result"
    }
   ],
   "source": [
    "  df = pd.read_csv(\"/Users/noelalben/Desktop/VTU_PROJ/music_autotagging/annotations_final.csv\", delimiter='\\t')\n",
    "\n",
    "  # Calculate TOP 50 tags.\n",
    "  top50 = (df.drop(['clip_id', 'mp3_path'], axis=1)\n",
    "    .sum()\n",
    "    .sort_values()\n",
    "    .tail(50)\n",
    "    .index\n",
    "    .tolist())\n",
    "\n",
    "  # Select TOP 50 columns.\n",
    "  df = df[top50]\n",
    "  y=df\n",
    "  y"
   ]
  },
  {
   "cell_type": "markdown",
   "metadata": {},
   "source": [
    "### Extracting 35th song tags"
   ]
  },
  {
   "cell_type": "code",
   "execution_count": 22,
   "metadata": {},
   "outputs": [
    {
     "data": {
      "text/plain": [
       "array([[0, 0, 0, 0, 0, 0, 0, 0, 0, 0, 0, 0, 0, 0, 0, 0, 0, 0, 0, 0, 0, 0,\n",
       "        0, 0, 0, 0, 0, 0, 0, 0, 0, 0, 1, 0, 0, 0, 0, 0, 0, 0, 0, 0, 0, 0,\n",
       "        0, 0, 0, 0, 0, 0]])"
      ]
     },
     "execution_count": 22,
     "metadata": {},
     "output_type": "execute_result"
    }
   ],
   "source": [
    "z=y[35:36]\n",
    "z.to_numpy()\n"
   ]
  },
  {
   "cell_type": "markdown",
   "metadata": {},
   "source": [
    "### Comparing model prediction with Dataset Tags"
   ]
  },
  {
   "cell_type": "code",
   "execution_count": 29,
   "metadata": {},
   "outputs": [
    {
     "name": "stdout",
     "output_type": "stream",
     "text": [
      "choral          True\n",
      "female voice    True\n",
      "metal           True\n",
      "country         True\n",
      "weird           True\n",
      "no voice        True\n",
      "cello           True\n",
      "harp            True\n",
      "beats           True\n",
      "female vocal    True\n",
      "male voice      True\n",
      "dance           True\n",
      "new age         True\n",
      "voice           True\n",
      "choir           True\n",
      "classic         True\n",
      "man             True\n",
      "solo            True\n",
      "sitar           True\n",
      "soft            True\n",
      "pop             True\n",
      "no vocal        True\n",
      "male vocal      True\n",
      "woman           True\n",
      "flute           True\n",
      "quiet           True\n",
      "loud            True\n",
      "harpsichord     True\n",
      "no vocals       True\n",
      "vocals          True\n",
      "singing         True\n",
      "male            True\n",
      "opera           True\n",
      "indian          True\n",
      "female          True\n",
      "synth           True\n",
      "vocal           True\n",
      "violin          True\n",
      "beat            True\n",
      "ambient         True\n",
      "piano           True\n",
      "fast            True\n",
      "rock            True\n",
      "electronic      True\n",
      "drums           True\n",
      "strings         True\n",
      "techno          True\n",
      "slow            True\n",
      "classical       True\n",
      "guitar          True\n",
      "dtype: bool\n"
     ]
    }
   ],
   "source": [
    "comparison = predi == z \n",
    "equal_arrays = comparison.all() \n",
    "  \n",
    "print(equal_arrays)"
   ]
  }
 ],
 "metadata": {
  "kernelspec": {
   "display_name": "Python 3",
   "language": "python",
   "name": "python3"
  },
  "language_info": {
   "codemirror_mode": {
    "name": "ipython",
    "version": 3
   },
   "file_extension": ".py",
   "mimetype": "text/x-python",
   "name": "python",
   "nbconvert_exporter": "python",
   "pygments_lexer": "ipython3",
   "version": "3.6.12"
  }
 },
 "nbformat": 4,
 "nbformat_minor": 4
}

{
 "cells": [
  {
   "cell_type": "code",
   "execution_count": null,
   "metadata": {},
   "outputs": [],
   "source": [
    "classifier = keras.Sequential()\n",
    "classifier.add(InputLayer(input_shape=(8,16000)))\n",
    "classifier.add(BatchNormalization())\n",
    "classifier.add(basic1)\n",
    "classifier.add(MaxPool1D(pool_size=3))\n",
    "classifier.add(rese)\n",
    "classifier.add(rese)\n",
    "classifier.add(rese)\n",
    "classifier.add(rese)\n",
    "classifier.add(GlobalMaxPool1D())\n",
    "classifier.add(Dense(units=256, activation='relu'))\n",
    "classifier.add(BatchNormalization())\n",
    "classifier.add(Activation(activation))    \n",
    "classifier.add(Dropout(dropout_rate))\n",
    "classifier.add(Dense(units=8, activation='softmax'))\n",
    "classifier.compile(loss=custom_loss, optimizer='adam',metrics=[tf.keras.metrics.CategoricalAccuracy()])"
   ]
  }
 ],
 "metadata": {
  "kernelspec": {
   "display_name": "Python 3",
   "language": "python",
   "name": "python3"
  },
  "language_info": {
   "codemirror_mode": {
    "name": "ipython",
    "version": 3
   },
   "file_extension": ".py",
   "mimetype": "text/x-python",
   "name": "python",
   "nbconvert_exporter": "python",
   "pygments_lexer": "ipython3",
   "version": "3.6.12"
  }
 },
 "nbformat": 4,
 "nbformat_minor": 4
}

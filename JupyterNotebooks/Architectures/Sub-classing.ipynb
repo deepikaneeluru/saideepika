{
 "cells": [
  {
   "cell_type": "code",
   "execution_count": null,
   "metadata": {},
   "outputs": [],
   "source": [
    "\n",
    "class abc(layers.Layer):               \n",
    "    def __init__(self, out_channels, kernel_size=3):\n",
    "        super(abc, self).__init__()\n",
    "        self.conv = layers.Conv1D(out_channels, kernel_size, padding=\"same\")\n",
    "        self.bn = layers.BatchNormalization()\n",
    "\n",
    "    def call(self, input_tensor, training=False):\n",
    "        x = self.conv(input_tensor)\n",
    "        x = self.bn(x, training=training)\n",
    "        x = tf.nn.relu(x)\n",
    "        return x\n",
    "abc1=abc(64)"
   ]
  },
  {
   "cell_type": "code",
   "execution_count": null,
   "metadata": {},
   "outputs": [],
   "source": [
    "class se_fn(layers.Layer):\n",
    "    def __init__(self,amp_ratio,out_channels):\n",
    "        self.amp_ratio=amp_ratio\n",
    "        self.gavgpool=layers.GlobalAveragePooling1D()\n",
    "        self.dense1=Dense(out_channels * self.amp_ratio, activation='relu', kernel_initializer='glorot_uniform')\n",
    "        self.dense2=Dense(out_channels, activation='relu', kernel_initializer='glorot_uniform')\n",
    "        \n",
    "        self.multiply=layers.Multiply()\n",
    "        self.out_channels=out_channels\n",
    "        super(se_fn, self).__init__()\n",
    "\n",
    "    def call(self, input_tensor, training=False):\n",
    "        shortcut=input_tensor\n",
    "        x = self.gavgpool(input_tensor)\n",
    "#         x = Reshape((1, self.out_channels))(x)\n",
    "        x=self.dense1(x)\n",
    "        x=self.dense2(x)\n",
    "        x=self.multiply([x,shortcut])\n",
    "        return x\n",
    "\n",
    "    \n",
    "se_fn_block =se_fn(16,128)"
   ]
  },
  {
   "cell_type": "code",
   "execution_count": null,
   "metadata": {},
   "outputs": [],
   "source": [
    "class rese_2(layers.Layer):\n",
    "    def __init__(self,amplify_ratio,filters):\n",
    "        self.amplify_ratio=amplify_ratio\n",
    "        self.filters=filters\n",
    "        self.maxpool=layers.MaxPooling1D(pool_size=3)\n",
    "        self.conv1 = layers.Conv1D(128, kernel_size=3, padding='same', use_bias=True,kernel_regularizer=l2(0), \n",
    "                                   kernel_initializer='he_uniform')\n",
    "\n",
    "        self.dropout=layers.Dropout(0.1)\n",
    "        self.bn1 = layers.BatchNormalization()\n",
    "        self.add=layers.Add()\n",
    "        super(rese_2, self).__init__()\n",
    "\n",
    "    def call(self, input_tensor, training=False):\n",
    "        x=xyz123(input_tensor)\n",
    "        x=self.dropout(x)\n",
    "        x=self.conv1(x)\n",
    "        x=self.bn1(x)\n",
    "        shortcut=x\n",
    "        sefn=se_fn_block(x)\n",
    "        x=self.add([x,sefn])\n",
    "        x=tf.nn.relu(x)\n",
    "        x=self.maxpool(x)\n",
    "        return x\n",
    "\n",
    "    \n",
    "rese2_block =rese_2(16,128)"
   ]
  },
  {
   "cell_type": "code",
   "execution_count": null,
   "metadata": {},
   "outputs": [],
   "source": [
    "class rese_2_new(layers.Layer):\n",
    "    def __init__(self,amplify_ratio,filters):\n",
    "        self.amplify_ratio=amplify_ratio\n",
    "        self.filters=filters\n",
    "        self.maxpool=layers.MaxPooling1D(pool_size=3)\n",
    "        self.conv1 = layers.Conv1D(128, kernel_size=3, padding='same', use_bias=True,kernel_regularizer=l2(0), \n",
    "                                   kernel_initializer='he_uniform')\n",
    "\n",
    "        self.dropout=layers.Dropout(0.1)\n",
    "        self.bn1 = layers.BatchNormalization()\n",
    "        self.add=layers.Add()\n",
    "        super(rese_2_new, self).__init__()\n",
    "\n",
    "    def call(self, input_tensor, training=False):\n",
    "        x=xyz123_new(input_tensor)\n",
    "        x=self.dropout(x)\n",
    "        x=self.conv1(x)\n",
    "        x=self.bn1(x)\n",
    "        shortcut=x\n",
    "        sefn=se_fn_block(x)\n",
    "        x=self.add([x,sefn])\n",
    "        x=tf.nn.relu(x)\n",
    "        x=self.maxpool(x)\n",
    "        return x\n",
    "\n",
    "    \n",
    "rese2_block_new =rese_2_new(16,128)"
   ]
  },
  {
   "cell_type": "code",
   "execution_count": null,
   "metadata": {},
   "outputs": [],
   "source": [
    "layer1=Input(shape=(16000,8))\n",
    "layer2=abc1(layer1)\n",
    "layer3=MaxPool1D(pool_size=3,strides=None)(layer2)\n",
    "layer4=rese2_block(layer3)\n",
    "layer5=rese2_block_new(layer4)\n",
    "layer6=rese2_block_new(layer5)\n",
    "layer7=rese2_block_new(layer6)\n",
    "layer8=GlobalMaxPool1D()(layer7)\n",
    "final=Dense(units=256, activation='relu')(layer8)\n",
    "layer10=BatchNormalization()(final)\n",
    "layer11=Activation(activation)(layer10)    \n",
    "layer12=Dropout(dropout_rate)(layer11)\n",
    "out_class=Dense(units=8, activation='softmax')(layer12)\n",
    "layer14=BatchNormalization()(final)\n",
    "layer15=Activation(activation)(layer14)    \n",
    "layer16=Dropout(dropout_rate)(layer15)\n",
    "out_reg=Dense(units=2, activation='linear')(layer16)\n",
    "model=tf.keras.Model(inputs=layer1,outputs=[out_class,out_reg])\n",
    "\n",
    "model.summary()"
   ]
  },
  {
   "cell_type": "code",
   "execution_count": null,
   "metadata": {},
   "outputs": [],
   "source": []
  },
  {
   "cell_type": "code",
   "execution_count": null,
   "metadata": {},
   "outputs": [],
   "source": []
  },
  {
   "cell_type": "code",
   "execution_count": null,
   "metadata": {},
   "outputs": [],
   "source": []
  },
  {
   "cell_type": "code",
   "execution_count": null,
   "metadata": {},
   "outputs": [],
   "source": []
  },
  {
   "cell_type": "code",
   "execution_count": null,
   "metadata": {},
   "outputs": [],
   "source": []
  }
 ],
 "metadata": {
  "kernelspec": {
   "display_name": "Python 3",
   "language": "python",
   "name": "python3"
  },
  "language_info": {
   "codemirror_mode": {
    "name": "ipython",
    "version": 3
   },
   "file_extension": ".py",
   "mimetype": "text/x-python",
   "name": "python",
   "nbconvert_exporter": "python",
   "pygments_lexer": "ipython3",
   "version": "3.6.12"
  }
 },
 "nbformat": 4,
 "nbformat_minor": 4
}

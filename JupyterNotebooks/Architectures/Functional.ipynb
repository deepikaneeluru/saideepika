{
 "cells": [
  {
   "cell_type": "code",
   "execution_count": null,
   "metadata": {},
   "outputs": [],
   "source": [
    "def basic_block(x, num_features=128, weight_decay=0):\n",
    "    x = Conv1D(num_features, kernel_size=3, padding='same', use_bias=True,kernel_regularizer=l2(weight_decay), kernel_initializer='he_uniform')(x)\n",
    "    x = BatchNormalization()(x)\n",
    "    x = Activation('relu')(x)\n",
    "    return x"
   ]
  },
  {
   "cell_type": "code",
   "execution_count": null,
   "metadata": {},
   "outputs": [],
   "source": [
    "def se_fn(x,num_features=128,amplifying_ratio=16):\n",
    "#     num_features = x.shape[-1].value\n",
    "    shortcut=x\n",
    "    num_features=128\n",
    "    x = GlobalAvgPool1D()(x)\n",
    "    x = Reshape((1, num_features))(x)\n",
    "    x = Dense(num_features * amplifying_ratio, activation='relu', kernel_initializer='glorot_uniform')(x)\n",
    "    x = Dense(num_features, activation='sigmoid', kernel_initializer='glorot_uniform')(x)\n",
    "    x = Multiply()([x,shortcut])\n",
    "    return x"
   ]
  },
  {
   "cell_type": "code",
   "execution_count": null,
   "metadata": {},
   "outputs": [],
   "source": [
    "def rese_block(x, num_features=128, weight_decay=0, amplifying_ratio=16):\n",
    "#     if num_features != x.shape[-1].value:\n",
    "#         shortcut = Conv1D(num_features, kernel_size=1, padding='same', use_bias=True,kernel_regularizer=l2(weight_decay), kernel_initializer='glorot_uniform')(x)\n",
    "#         shortcut = BatchNormalization()(shortcut)\n",
    "#     else:\n",
    "#         shortcut = x\n",
    "    num_features=128\n",
    "    x = basic_block(x,num_features,weight_decay)\n",
    "#     x = BatchNormalization()(x)\n",
    "#     x = Activation('relu')(x)\n",
    "    x = Dropout(0.2)(x)\n",
    "    x = Conv1D(num_features, kernel_size=3, padding='same', use_bias=True,kernel_regularizer=l2(weight_decay), kernel_initializer='he_uniform')(x)\n",
    "    x = BatchNormalization()(x)\n",
    "    shortcut=x\n",
    "    if amplifying_ratio > 0:\n",
    "        x = se_fn(x, amplifying_ratio)\n",
    "    x = Add()([shortcut, x])\n",
    "    x = Activation('relu')(x)\n",
    "    x = MaxPool1D(pool_size=3)(x)\n",
    "    return x"
   ]
  },
  {
   "cell_type": "code",
   "execution_count": null,
   "metadata": {},
   "outputs": [],
   "source": [
    "layer1=Input(shape=(16000,8))\n",
    "layer2=basic_block1(layer1)\n",
    "layer3=MaxPool1D(pool_size=3,strides=None)(layer2)\n",
    "layer4=rese_block(layer3)\n",
    "layer5=rese_block(layer4)\n",
    "layer6=rese_block(layer5)\n",
    "layer7=rese_block(layer6)\n",
    "layer8=rese_block(layer7)\n",
    "layer9=GlobalMaxPool1D()(layer8)\n",
    "final=Dense(units=256, activation='relu')(layer9)\n",
    "layer10=BatchNormalization()(final)\n",
    "layer11=Activation(activation)(layer10)    \n",
    "layer12=Dropout(dropout_rate)(layer11)\n",
    "out_class=Dense(units=8, activation='softmax')(layer12)\n",
    "layer14=BatchNormalization()(final)\n",
    "layer15=Activation(activation)(layer14)    \n",
    "layer16=Dropout(dropout_rate)(layer15)\n",
    "out_reg=Dense(units=2, activation='linear')(layer16)\n",
    "model=keras.Model(inputs=layer1,outputs=[out_class,out_reg])\n",
    "model.summary()"
   ]
  }
 ],
 "metadata": {
  "kernelspec": {
   "display_name": "Python 3",
   "language": "python",
   "name": "python3"
  },
  "language_info": {
   "codemirror_mode": {
    "name": "ipython",
    "version": 3
   },
   "file_extension": ".py",
   "mimetype": "text/x-python",
   "name": "python",
   "nbconvert_exporter": "python",
   "pygments_lexer": "ipython3",
   "version": "3.6.12"
  }
 },
 "nbformat": 4,
 "nbformat_minor": 4
}

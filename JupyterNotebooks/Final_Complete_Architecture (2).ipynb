{
 "cells": [
  {
   "cell_type": "code",
   "execution_count": 220,
   "metadata": {},
   "outputs": [],
   "source": [
    "import sys, os\n",
    "import numpy as np\n",
    "import pandas as pd\n",
    "import numpy as np\n",
    "import tensorflow as tf\n",
    "from keras.models import load_model\n",
    "import wave\n",
    "import os\n",
    "import glob\n",
    "import librosa\n",
    "import scipy.io.wavfile as wav\n",
    "import scipy.signal as signal\n",
    "import matplotlib.pyplot as plt\n",
    "import keras\n",
    "from keras.models import Sequential\n",
    "from keras.layers import (Conv1D, MaxPool1D,MaxPool2D, BatchNormalization, GlobalAvgPool1D, Multiply, GlobalMaxPool1D,\n",
    "                                     Dense, Dropout, Activation, Reshape, Concatenate, Add)\n",
    "from keras.layers import Input\n",
    "from keras.utils import np_utils\n",
    "from keras.layers import MaxPooling2D\n",
    "from keras.layers import Flatten\n",
    "from keras.layers import Dense\n",
    "from keras.models import load_model\n",
    "import pandas as pd\n",
    "from tensorflow.keras import Model\n",
    "from keras.layers import InputLayer\n",
    "from keras.layers import Lambda\n",
    "from keras import backend as K\n",
    "from keras.regularizers import l2\n",
    "import math\n",
    "from sklearn.datasets import make_regression\n",
    "from sklearn.metrics import mean_absolute_error"
   ]
  },
  {
   "cell_type": "markdown",
   "metadata": {},
   "source": [
    "### Defining Each Layer"
   ]
  },
  {
   "cell_type": "code",
   "execution_count": 228,
   "metadata": {},
   "outputs": [],
   "source": [
    "#1. Basic Block 64 features (Input)\n",
    "def basic_block1(x, num_features=64, weight_decay=0):\n",
    "    x = Conv1D(num_features, kernel_size=3, padding='same', use_bias=True,kernel_regularizer=l2(weight_decay), kernel_initializer='he_uniform')(x)\n",
    "    x = BatchNormalization()(x)\n",
    "    x = Activation('relu')(x)\n",
    "    return x\n",
    "#2. Basic Block 128 features (Rese)\n",
    "def basic_block(x, num_features=128, weight_decay=0):\n",
    "    x = Conv1D(num_features, kernel_size=3, padding='same', use_bias=True,kernel_regularizer=l2(weight_decay), kernel_initializer='he_uniform')(x)\n",
    "    x = BatchNormalization()(x)\n",
    "    x = Activation('relu')(x)\n",
    "    return x\n",
    "#3, Squeeze and Excitation Block\n",
    "def se_fn(x,num_features=128,amplifying_ratio=16):\n",
    "\n",
    "    shortcut=x\n",
    "    num_features=128\n",
    "    x = GlobalAvgPool1D()(x)\n",
    "    x = Reshape((1, num_features))(x)\n",
    "    x = Dense(num_features * amplifying_ratio, activation='relu', kernel_initializer='glorot_uniform')(x)\n",
    "    x = Dense(num_features, activation='sigmoid', kernel_initializer='glorot_uniform')(x)\n",
    "    x = Multiply()([x,shortcut])\n",
    "    return x\n",
    "#Rese Block \n",
    "def rese_block(x, num_features=128, weight_decay=0, amplifying_ratio=16):\n",
    "    num_features=128\n",
    "    x = basic_block(x,num_features,weight_decay)\n",
    "    x = Dropout(0.2)(x)\n",
    "    x = Conv1D(num_features, kernel_size=3, padding='same', use_bias=True,kernel_regularizer=l2(weight_decay), kernel_initializer='he_uniform')(x)\n",
    "    x = BatchNormalization()(x)\n",
    "    shortcut=x\n",
    "    if amplifying_ratio > 0:\n",
    "        x = se_fn(x, amplifying_ratio)\n",
    "    x = Add()([shortcut, x])\n",
    "    x = Activation('relu')(x)\n",
    "    x = MaxPool1D(pool_size=3)(x)\n",
    "    return x\n",
    "kernel_initializer=tf.keras.initializers.GlorotUniform()\n",
    "activation=keras.activations.relu\n",
    "dropout_rate=0.1"
   ]
  },
  {
   "cell_type": "markdown",
   "metadata": {},
   "source": [
    "### Function To Build Model Based on Training Requirements"
   ]
  },
  {
   "cell_type": "code",
   "execution_count": 229,
   "metadata": {},
   "outputs": [],
   "source": [
    "def build_model(s):\n",
    "\n",
    "    layer1=Input(shape=(16000,8))\n",
    "    layer2=basic_block1(layer1)\n",
    "    layer3=MaxPool1D(pool_size=3,strides=None)(layer2)\n",
    "    layer4=rese_block(layer3)\n",
    "    layer5=rese_block(layer4)\n",
    "    layer6=rese_block(layer5)\n",
    "    layer7=rese_block(layer6)\n",
    "    layer8=rese_block(layer7)\n",
    "    layer9=GlobalMaxPool1D()(layer8)\n",
    "    final=Dense(units=256, activation='relu')(layer9)\n",
    "    # 'c' is used only for classification task\n",
    "    if (s == 'c'):\n",
    "        layer10=BatchNormalization()(final)\n",
    "        layer11=Activation(activation)(layer10)    \n",
    "        layer12=Dropout(dropout_rate)(layer11)\n",
    "        out_class=Dense(units=8, activation='softmax')(layer12)\n",
    "        model=keras.Model(inputs=layer1,outputs=out_class)\n",
    "    elif (s == 'r'):\n",
    "    # 'r' is used only for regression task\n",
    "        layer14=BatchNormalization()(final)\n",
    "        layer15=Activation(activation)(layer14)    \n",
    "        layer16=Dropout(dropout_rate)(layer15)\n",
    "        out_reg=Dense(units=1, activation='linear')(layer16)\n",
    "        model=keras.Model(inputs=layer1,outputs=out_reg)\n",
    "    # Combination of classification and regression\n",
    "    else:\n",
    "        layer10=BatchNormalization()(final)\n",
    "        layer11=Activation(activation)(layer10)    \n",
    "        layer12=Dropout(dropout_rate)(layer11)\n",
    "        out_class=Dense(units=8, activation='softmax')(layer12)\n",
    "        # Branching for regression \n",
    "        layer14=BatchNormalization()(final)\n",
    "        layer15=Activation(activation)(layer14)    \n",
    "        layer16=Dropout(dropout_rate)(layer15)\n",
    "        out_reg=Dense(units=2, activation='linear')(layer16)\n",
    "        model=keras.Model(inputs=layer1,outputs=[out_class,out_reg])\n",
    "\n",
    "    return model"
   ]
  },
  {
   "cell_type": "code",
   "execution_count": 5,
   "metadata": {},
   "outputs": [],
   "source": [
    "model = build_model('')"
   ]
  },
  {
   "cell_type": "code",
   "execution_count": 6,
   "metadata": {
    "scrolled": false
   },
   "outputs": [
    {
     "name": "stdout",
     "output_type": "stream",
     "text": [
      "Model: \"model\"\n",
      "__________________________________________________________________________________________________\n",
      "Layer (type)                    Output Shape         Param #     Connected to                     \n",
      "==================================================================================================\n",
      "input_1 (InputLayer)            [(None, 16000, 8)]   0                                            \n",
      "__________________________________________________________________________________________________\n",
      "conv1d (Conv1D)                 (None, 16000, 64)    1600        input_1[0][0]                    \n",
      "__________________________________________________________________________________________________\n",
      "batch_normalization (BatchNorma (None, 16000, 64)    256         conv1d[0][0]                     \n",
      "__________________________________________________________________________________________________\n",
      "activation (Activation)         (None, 16000, 64)    0           batch_normalization[0][0]        \n",
      "__________________________________________________________________________________________________\n",
      "max_pooling1d (MaxPooling1D)    (None, 5333, 64)     0           activation[0][0]                 \n",
      "__________________________________________________________________________________________________\n",
      "conv1d_1 (Conv1D)               (None, 5333, 128)    24704       max_pooling1d[0][0]              \n",
      "__________________________________________________________________________________________________\n",
      "batch_normalization_1 (BatchNor (None, 5333, 128)    512         conv1d_1[0][0]                   \n",
      "__________________________________________________________________________________________________\n",
      "activation_1 (Activation)       (None, 5333, 128)    0           batch_normalization_1[0][0]      \n",
      "__________________________________________________________________________________________________\n",
      "dropout (Dropout)               (None, 5333, 128)    0           activation_1[0][0]               \n",
      "__________________________________________________________________________________________________\n",
      "conv1d_2 (Conv1D)               (None, 5333, 128)    49280       dropout[0][0]                    \n",
      "__________________________________________________________________________________________________\n",
      "batch_normalization_2 (BatchNor (None, 5333, 128)    512         conv1d_2[0][0]                   \n",
      "__________________________________________________________________________________________________\n",
      "global_average_pooling1d (Globa (None, 128)          0           batch_normalization_2[0][0]      \n",
      "__________________________________________________________________________________________________\n",
      "reshape (Reshape)               (None, 1, 128)       0           global_average_pooling1d[0][0]   \n",
      "__________________________________________________________________________________________________\n",
      "dense (Dense)                   (None, 1, 2048)      264192      reshape[0][0]                    \n",
      "__________________________________________________________________________________________________\n",
      "dense_1 (Dense)                 (None, 1, 128)       262272      dense[0][0]                      \n",
      "__________________________________________________________________________________________________\n",
      "multiply (Multiply)             (None, 5333, 128)    0           dense_1[0][0]                    \n",
      "                                                                 batch_normalization_2[0][0]      \n",
      "__________________________________________________________________________________________________\n",
      "add (Add)                       (None, 5333, 128)    0           batch_normalization_2[0][0]      \n",
      "                                                                 multiply[0][0]                   \n",
      "__________________________________________________________________________________________________\n",
      "activation_2 (Activation)       (None, 5333, 128)    0           add[0][0]                        \n",
      "__________________________________________________________________________________________________\n",
      "max_pooling1d_1 (MaxPooling1D)  (None, 1777, 128)    0           activation_2[0][0]               \n",
      "__________________________________________________________________________________________________\n",
      "conv1d_3 (Conv1D)               (None, 1777, 128)    49280       max_pooling1d_1[0][0]            \n",
      "__________________________________________________________________________________________________\n",
      "batch_normalization_3 (BatchNor (None, 1777, 128)    512         conv1d_3[0][0]                   \n",
      "__________________________________________________________________________________________________\n",
      "activation_3 (Activation)       (None, 1777, 128)    0           batch_normalization_3[0][0]      \n",
      "__________________________________________________________________________________________________\n",
      "dropout_1 (Dropout)             (None, 1777, 128)    0           activation_3[0][0]               \n",
      "__________________________________________________________________________________________________\n",
      "conv1d_4 (Conv1D)               (None, 1777, 128)    49280       dropout_1[0][0]                  \n",
      "__________________________________________________________________________________________________\n",
      "batch_normalization_4 (BatchNor (None, 1777, 128)    512         conv1d_4[0][0]                   \n",
      "__________________________________________________________________________________________________\n",
      "global_average_pooling1d_1 (Glo (None, 128)          0           batch_normalization_4[0][0]      \n",
      "__________________________________________________________________________________________________\n",
      "reshape_1 (Reshape)             (None, 1, 128)       0           global_average_pooling1d_1[0][0] \n",
      "__________________________________________________________________________________________________\n",
      "dense_2 (Dense)                 (None, 1, 2048)      264192      reshape_1[0][0]                  \n",
      "__________________________________________________________________________________________________\n",
      "dense_3 (Dense)                 (None, 1, 128)       262272      dense_2[0][0]                    \n",
      "__________________________________________________________________________________________________\n",
      "multiply_1 (Multiply)           (None, 1777, 128)    0           dense_3[0][0]                    \n",
      "                                                                 batch_normalization_4[0][0]      \n",
      "__________________________________________________________________________________________________\n",
      "add_1 (Add)                     (None, 1777, 128)    0           batch_normalization_4[0][0]      \n",
      "                                                                 multiply_1[0][0]                 \n",
      "__________________________________________________________________________________________________\n",
      "activation_4 (Activation)       (None, 1777, 128)    0           add_1[0][0]                      \n",
      "__________________________________________________________________________________________________\n",
      "max_pooling1d_2 (MaxPooling1D)  (None, 592, 128)     0           activation_4[0][0]               \n",
      "__________________________________________________________________________________________________\n",
      "conv1d_5 (Conv1D)               (None, 592, 128)     49280       max_pooling1d_2[0][0]            \n",
      "__________________________________________________________________________________________________\n",
      "batch_normalization_5 (BatchNor (None, 592, 128)     512         conv1d_5[0][0]                   \n",
      "__________________________________________________________________________________________________\n",
      "activation_5 (Activation)       (None, 592, 128)     0           batch_normalization_5[0][0]      \n",
      "__________________________________________________________________________________________________\n",
      "dropout_2 (Dropout)             (None, 592, 128)     0           activation_5[0][0]               \n",
      "__________________________________________________________________________________________________\n",
      "conv1d_6 (Conv1D)               (None, 592, 128)     49280       dropout_2[0][0]                  \n",
      "__________________________________________________________________________________________________\n",
      "batch_normalization_6 (BatchNor (None, 592, 128)     512         conv1d_6[0][0]                   \n",
      "__________________________________________________________________________________________________\n",
      "global_average_pooling1d_2 (Glo (None, 128)          0           batch_normalization_6[0][0]      \n",
      "__________________________________________________________________________________________________\n",
      "reshape_2 (Reshape)             (None, 1, 128)       0           global_average_pooling1d_2[0][0] \n",
      "__________________________________________________________________________________________________\n",
      "dense_4 (Dense)                 (None, 1, 2048)      264192      reshape_2[0][0]                  \n",
      "__________________________________________________________________________________________________\n",
      "dense_5 (Dense)                 (None, 1, 128)       262272      dense_4[0][0]                    \n",
      "__________________________________________________________________________________________________\n",
      "multiply_2 (Multiply)           (None, 592, 128)     0           dense_5[0][0]                    \n",
      "                                                                 batch_normalization_6[0][0]      \n",
      "__________________________________________________________________________________________________\n",
      "add_2 (Add)                     (None, 592, 128)     0           batch_normalization_6[0][0]      \n",
      "                                                                 multiply_2[0][0]                 \n",
      "__________________________________________________________________________________________________\n",
      "activation_6 (Activation)       (None, 592, 128)     0           add_2[0][0]                      \n",
      "__________________________________________________________________________________________________\n",
      "max_pooling1d_3 (MaxPooling1D)  (None, 197, 128)     0           activation_6[0][0]               \n",
      "__________________________________________________________________________________________________\n",
      "conv1d_7 (Conv1D)               (None, 197, 128)     49280       max_pooling1d_3[0][0]            \n",
      "__________________________________________________________________________________________________\n",
      "batch_normalization_7 (BatchNor (None, 197, 128)     512         conv1d_7[0][0]                   \n",
      "__________________________________________________________________________________________________\n",
      "activation_7 (Activation)       (None, 197, 128)     0           batch_normalization_7[0][0]      \n",
      "__________________________________________________________________________________________________\n",
      "dropout_3 (Dropout)             (None, 197, 128)     0           activation_7[0][0]               \n",
      "__________________________________________________________________________________________________\n",
      "conv1d_8 (Conv1D)               (None, 197, 128)     49280       dropout_3[0][0]                  \n",
      "__________________________________________________________________________________________________\n",
      "batch_normalization_8 (BatchNor (None, 197, 128)     512         conv1d_8[0][0]                   \n",
      "__________________________________________________________________________________________________\n",
      "global_average_pooling1d_3 (Glo (None, 128)          0           batch_normalization_8[0][0]      \n",
      "__________________________________________________________________________________________________\n",
      "reshape_3 (Reshape)             (None, 1, 128)       0           global_average_pooling1d_3[0][0] \n",
      "__________________________________________________________________________________________________\n",
      "dense_6 (Dense)                 (None, 1, 2048)      264192      reshape_3[0][0]                  \n",
      "__________________________________________________________________________________________________\n",
      "dense_7 (Dense)                 (None, 1, 128)       262272      dense_6[0][0]                    \n",
      "__________________________________________________________________________________________________\n",
      "multiply_3 (Multiply)           (None, 197, 128)     0           dense_7[0][0]                    \n",
      "                                                                 batch_normalization_8[0][0]      \n",
      "__________________________________________________________________________________________________\n",
      "add_3 (Add)                     (None, 197, 128)     0           batch_normalization_8[0][0]      \n",
      "                                                                 multiply_3[0][0]                 \n",
      "__________________________________________________________________________________________________\n",
      "activation_8 (Activation)       (None, 197, 128)     0           add_3[0][0]                      \n",
      "__________________________________________________________________________________________________\n",
      "max_pooling1d_4 (MaxPooling1D)  (None, 65, 128)      0           activation_8[0][0]               \n",
      "__________________________________________________________________________________________________\n",
      "conv1d_9 (Conv1D)               (None, 65, 128)      49280       max_pooling1d_4[0][0]            \n",
      "__________________________________________________________________________________________________\n",
      "batch_normalization_9 (BatchNor (None, 65, 128)      512         conv1d_9[0][0]                   \n",
      "__________________________________________________________________________________________________\n",
      "activation_9 (Activation)       (None, 65, 128)      0           batch_normalization_9[0][0]      \n",
      "__________________________________________________________________________________________________\n",
      "dropout_4 (Dropout)             (None, 65, 128)      0           activation_9[0][0]               \n",
      "__________________________________________________________________________________________________\n",
      "conv1d_10 (Conv1D)              (None, 65, 128)      49280       dropout_4[0][0]                  \n",
      "__________________________________________________________________________________________________\n",
      "batch_normalization_10 (BatchNo (None, 65, 128)      512         conv1d_10[0][0]                  \n",
      "__________________________________________________________________________________________________\n",
      "global_average_pooling1d_4 (Glo (None, 128)          0           batch_normalization_10[0][0]     \n",
      "__________________________________________________________________________________________________\n",
      "reshape_4 (Reshape)             (None, 1, 128)       0           global_average_pooling1d_4[0][0] \n",
      "__________________________________________________________________________________________________\n",
      "dense_8 (Dense)                 (None, 1, 2048)      264192      reshape_4[0][0]                  \n",
      "__________________________________________________________________________________________________\n",
      "dense_9 (Dense)                 (None, 1, 128)       262272      dense_8[0][0]                    \n",
      "__________________________________________________________________________________________________\n",
      "multiply_4 (Multiply)           (None, 65, 128)      0           dense_9[0][0]                    \n",
      "                                                                 batch_normalization_10[0][0]     \n",
      "__________________________________________________________________________________________________\n",
      "add_4 (Add)                     (None, 65, 128)      0           batch_normalization_10[0][0]     \n",
      "                                                                 multiply_4[0][0]                 \n",
      "__________________________________________________________________________________________________\n",
      "activation_10 (Activation)      (None, 65, 128)      0           add_4[0][0]                      \n",
      "__________________________________________________________________________________________________\n",
      "max_pooling1d_5 (MaxPooling1D)  (None, 21, 128)      0           activation_10[0][0]              \n",
      "__________________________________________________________________________________________________\n",
      "global_max_pooling1d (GlobalMax (None, 128)          0           max_pooling1d_5[0][0]            \n",
      "__________________________________________________________________________________________________\n",
      "dense_10 (Dense)                (None, 256)          33024       global_max_pooling1d[0][0]       \n",
      "__________________________________________________________________________________________________\n",
      "batch_normalization_11 (BatchNo (None, 256)          1024        dense_10[0][0]                   \n",
      "__________________________________________________________________________________________________\n",
      "batch_normalization_12 (BatchNo (None, 256)          1024        dense_10[0][0]                   \n",
      "__________________________________________________________________________________________________\n",
      "activation_11 (Activation)      (None, 256)          0           batch_normalization_11[0][0]     \n",
      "__________________________________________________________________________________________________\n",
      "activation_12 (Activation)      (None, 256)          0           batch_normalization_12[0][0]     \n",
      "__________________________________________________________________________________________________\n",
      "dropout_5 (Dropout)             (None, 256)          0           activation_11[0][0]              \n",
      "__________________________________________________________________________________________________\n",
      "dropout_6 (Dropout)             (None, 256)          0           activation_12[0][0]              \n",
      "__________________________________________________________________________________________________\n",
      "dense_11 (Dense)                (None, 8)            2056        dropout_5[0][0]                  \n",
      "__________________________________________________________________________________________________\n",
      "dense_12 (Dense)                (None, 2)            514         dropout_6[0][0]                  \n",
      "==================================================================================================\n",
      "Total params: 3,145,162\n",
      "Trainable params: 3,141,450\n",
      "Non-trainable params: 3,712\n",
      "__________________________________________________________________________________________________\n"
     ]
    }
   ],
   "source": [
    "model.summary()"
   ]
  },
  {
   "cell_type": "markdown",
   "metadata": {},
   "source": [
    "### Loading the Training Data"
   ]
  },
  {
   "cell_type": "markdown",
   "metadata": {},
   "source": [
    ">#### Loading the 38400 audio sample data (W)"
   ]
  },
  {
   "cell_type": "code",
   "execution_count": 7,
   "metadata": {},
   "outputs": [],
   "source": [
    "with open('/Users/dralbens/Downloads/Reverberant.npy', 'rb') as f:\n",
    "    g = np.load(f)"
   ]
  },
  {
   "cell_type": "markdown",
   "metadata": {},
   "source": [
    ">#### Loading the Region Data (R) [Classification Outputs]"
   ]
  },
  {
   "cell_type": "code",
   "execution_count": 20,
   "metadata": {},
   "outputs": [],
   "source": [
    "r = [6,7,0,5,2,3,4,1]\n",
    "y = []\n",
    "regions = np.array([1,0,0,0,0,0,0,0])\n",
    "for k in r:\n",
    "    for i in range(200):\n",
    "        o = np.roll(regions,k)\n",
    "        y.append(o)\n",
    "regs = []\n",
    "for k in range(3):\n",
    "    for i in y:\n",
    "        regs.append(list(i))\n",
    "regs = np.asarray(regs)\n"
   ]
  },
  {
   "cell_type": "markdown",
   "metadata": {},
   "source": [
    "> #### Loading the encoded Angle and Distance information (D) [Regression Outputs]"
   ]
  },
  {
   "cell_type": "code",
   "execution_count": 238,
   "metadata": {},
   "outputs": [],
   "source": [
    "df = pd.read_csv('/Users/dralbens/Desktop/Trained_Noel/angle_Anechoic.csv')\n",
    "df1 =pd.read_csv('/Users/dralbens/Desktop/Trained_Noel/Distance_Anechoic.csv')"
   ]
  },
  {
   "cell_type": "code",
   "execution_count": 242,
   "metadata": {},
   "outputs": [
    {
     "name": "stdout",
     "output_type": "stream",
     "text": [
      "4800\n"
     ]
    },
    {
     "data": {
      "text/html": [
       "<div>\n",
       "<style scoped>\n",
       "    .dataframe tbody tr th:only-of-type {\n",
       "        vertical-align: middle;\n",
       "    }\n",
       "\n",
       "    .dataframe tbody tr th {\n",
       "        vertical-align: top;\n",
       "    }\n",
       "\n",
       "    .dataframe thead th {\n",
       "        text-align: right;\n",
       "    }\n",
       "</style>\n",
       "<table border=\"1\" class=\"dataframe\">\n",
       "  <thead>\n",
       "    <tr style=\"text-align: right;\">\n",
       "      <th></th>\n",
       "      <th>ANGLE</th>\n",
       "      <th>DISTANCE</th>\n",
       "    </tr>\n",
       "  </thead>\n",
       "  <tbody>\n",
       "    <tr>\n",
       "      <th>0</th>\n",
       "      <td>0.768391</td>\n",
       "      <td>0.408292</td>\n",
       "    </tr>\n",
       "    <tr>\n",
       "      <th>1</th>\n",
       "      <td>0.696835</td>\n",
       "      <td>0.406863</td>\n",
       "    </tr>\n",
       "    <tr>\n",
       "      <th>2</th>\n",
       "      <td>0.016670</td>\n",
       "      <td>0.010206</td>\n",
       "    </tr>\n",
       "    <tr>\n",
       "      <th>3</th>\n",
       "      <td>0.579824</td>\n",
       "      <td>0.278332</td>\n",
       "    </tr>\n",
       "    <tr>\n",
       "      <th>4</th>\n",
       "      <td>0.742671</td>\n",
       "      <td>0.497308</td>\n",
       "    </tr>\n",
       "    <tr>\n",
       "      <th>...</th>\n",
       "      <td>...</td>\n",
       "      <td>...</td>\n",
       "    </tr>\n",
       "    <tr>\n",
       "      <th>4795</th>\n",
       "      <td>0.354086</td>\n",
       "      <td>0.201728</td>\n",
       "    </tr>\n",
       "    <tr>\n",
       "      <th>4796</th>\n",
       "      <td>0.933664</td>\n",
       "      <td>0.033747</td>\n",
       "    </tr>\n",
       "    <tr>\n",
       "      <th>4797</th>\n",
       "      <td>0.420803</td>\n",
       "      <td>0.336969</td>\n",
       "    </tr>\n",
       "    <tr>\n",
       "      <th>4798</th>\n",
       "      <td>0.624904</td>\n",
       "      <td>0.169447</td>\n",
       "    </tr>\n",
       "    <tr>\n",
       "      <th>4799</th>\n",
       "      <td>0.170612</td>\n",
       "      <td>0.533778</td>\n",
       "    </tr>\n",
       "  </tbody>\n",
       "</table>\n",
       "<p>4800 rows × 2 columns</p>\n",
       "</div>"
      ],
      "text/plain": [
       "         ANGLE  DISTANCE\n",
       "0     0.768391  0.408292\n",
       "1     0.696835  0.406863\n",
       "2     0.016670  0.010206\n",
       "3     0.579824  0.278332\n",
       "4     0.742671  0.497308\n",
       "...        ...       ...\n",
       "4795  0.354086  0.201728\n",
       "4796  0.933664  0.033747\n",
       "4797  0.420803  0.336969\n",
       "4798  0.624904  0.169447\n",
       "4799  0.170612  0.533778\n",
       "\n",
       "[4800 rows x 2 columns]"
      ]
     },
     "execution_count": 242,
     "metadata": {},
     "output_type": "execute_result"
    }
   ],
   "source": [
    "angle = df['angle']\n",
    "distance = df1['dist']\n",
    "data = [df[\"angle\"], df1[\"dist\"]]\n",
    "headers = [\"ANGLE\", \"DISTANCE\"]\n",
    "df3 = pd.concat(data, axis=1, keys=headers)\n",
    "print(len(df3))\n",
    "df3"
   ]
  },
  {
   "cell_type": "markdown",
   "metadata": {},
   "source": [
    "### Splitting and shuffling the loaded datasets into train and test sets"
   ]
  },
  {
   "cell_type": "code",
   "execution_count": 128,
   "metadata": {},
   "outputs": [],
   "source": [
    "#model.compile(,loss=['mse'], optimizer='adam',metrics=[tf.keras.metrics.MeanAbsolutePercentageError(name=\"mean_absolute_percentage_error\")])\n",
    "from sklearn.model_selection import train_test_split\n",
    "X_train, X_test, y_train_c, y_test_c, y_train_r, y_test_r = train_test_split(g,regs,df3, test_size=0.15, shuffle=True)"
   ]
  },
  {
   "cell_type": "markdown",
   "metadata": {},
   "source": [
    "### Compiling the model"
   ]
  },
  {
   "cell_type": "code",
   "execution_count": 132,
   "metadata": {},
   "outputs": [],
   "source": [
    "model.compile(loss=[tf.keras.losses.CategoricalCrossentropy(),'mse'], optimizer='adam',metrics=[tf.keras.metrics.CategoricalAccuracy(),tf.keras.metrics.RootMeanSquaredError()])"
   ]
  },
  {
   "cell_type": "code",
   "execution_count": 133,
   "metadata": {
    "scrolled": false
   },
   "outputs": [
    {
     "data": {
      "text/plain": [
       "array([[0.26788726, 0.25566391],\n",
       "       [0.85573728, 0.82931898],\n",
       "       [0.24980024, 0.0885637 ],\n",
       "       ...,\n",
       "       [0.31920349, 0.75693779],\n",
       "       [0.67711581, 0.11893599],\n",
       "       [0.59193608, 0.26596699]])"
      ]
     },
     "execution_count": 133,
     "metadata": {},
     "output_type": "execute_result"
    }
   ],
   "source": [
    "y_train_r = np.asarray(y_train_r)\n",
    "#All the training data in same datatype\n",
    "y_train_r"
   ]
  },
  {
   "cell_type": "markdown",
   "metadata": {},
   "source": [
    "### Training The Model and Saving"
   ]
  },
  {
   "cell_type": "code",
   "execution_count": 134,
   "metadata": {
    "scrolled": true
   },
   "outputs": [
    {
     "name": "stdout",
     "output_type": "stream",
     "text": [
      "Epoch 1/50\n",
      "510/510 [==============================] - 328s 585ms/step - loss: 0.0880 - dense_11_loss: 0.0348 - dense_12_loss: 0.0531 - dense_11_categorical_accuracy: 0.8558 - dense_11_root_mean_squared_error: 0.1143 - dense_12_categorical_accuracy: 0.8521 - dense_12_root_mean_squared_error: 0.1156\n",
      "Epoch 2/50\n",
      "510/510 [==============================] - 264s 518ms/step - loss: 0.0931 - dense_11_loss: 0.0414 - dense_12_loss: 0.0517 - dense_11_categorical_accuracy: 0.8558 - dense_11_root_mean_squared_error: 0.1086 - dense_12_categorical_accuracy: 0.8557 - dense_12_root_mean_squared_error: 0.1087\n",
      "Epoch 3/50\n",
      "510/510 [==============================] - 273s 535ms/step - loss: 0.0901 - dense_11_loss: 0.0368 - dense_12_loss: 0.0532 - dense_11_categorical_accuracy: 0.8544 - dense_11_root_mean_squared_error: 0.1098 - dense_12_categorical_accuracy: 0.8543 - dense_12_root_mean_squared_error: 0.1098\n",
      "Epoch 4/50\n",
      "510/510 [==============================] - 271s 531ms/step - loss: 0.0890 - dense_11_loss: 0.0353 - dense_12_loss: 0.0537 - dense_11_categorical_accuracy: 0.8553 - dense_11_root_mean_squared_error: 0.1098 - dense_12_categorical_accuracy: 0.8553 - dense_12_root_mean_squared_error: 0.1098\n",
      "Epoch 5/50\n",
      "510/510 [==============================] - 280s 549ms/step - loss: 0.0741 - dense_11_loss: 0.0211 - dense_12_loss: 0.0530 - dense_11_categorical_accuracy: 0.8555 - dense_11_root_mean_squared_error: 0.1101 - dense_12_categorical_accuracy: 0.8555 - dense_12_root_mean_squared_error: 0.1101\n",
      "Epoch 6/50\n",
      "510/510 [==============================] - 294s 577ms/step - loss: 0.0754 - dense_11_loss: 0.0237 - dense_12_loss: 0.0518 - dense_11_categorical_accuracy: 0.8555 - dense_11_root_mean_squared_error: 0.1095 - dense_12_categorical_accuracy: 0.8555 - dense_12_root_mean_squared_error: 0.1095\n",
      "Epoch 7/50\n",
      "510/510 [==============================] - 294s 577ms/step - loss: 0.0718 - dense_11_loss: 0.0202 - dense_12_loss: 0.0516 - dense_11_categorical_accuracy: 0.8557 - dense_11_root_mean_squared_error: 0.1094 - dense_12_categorical_accuracy: 0.8557 - dense_12_root_mean_squared_error: 0.1094\n",
      "Epoch 8/50\n",
      "510/510 [==============================] - 285s 558ms/step - loss: 0.1016 - dense_11_loss: 0.0476 - dense_12_loss: 0.0540 - dense_11_categorical_accuracy: 0.8555 - dense_11_root_mean_squared_error: 0.1094 - dense_12_categorical_accuracy: 0.8555 - dense_12_root_mean_squared_error: 0.1094\n",
      "Epoch 9/50\n",
      "510/510 [==============================] - 270s 530ms/step - loss: 0.0912 - dense_11_loss: 0.0382 - dense_12_loss: 0.0531 - dense_11_categorical_accuracy: 0.8553 - dense_11_root_mean_squared_error: 0.1096 - dense_12_categorical_accuracy: 0.8553 - dense_12_root_mean_squared_error: 0.1096\n",
      "Epoch 10/50\n",
      "510/510 [==============================] - 270s 530ms/step - loss: 0.0894 - dense_11_loss: 0.0364 - dense_12_loss: 0.0530 - dense_11_categorical_accuracy: 0.8551 - dense_11_root_mean_squared_error: 0.1097 - dense_12_categorical_accuracy: 0.8551 - dense_12_root_mean_squared_error: 0.1097\n",
      "Epoch 11/50\n",
      "510/510 [==============================] - 271s 532ms/step - loss: 0.0823 - dense_11_loss: 0.0292 - dense_12_loss: 0.0531 - dense_11_categorical_accuracy: 0.8553 - dense_11_root_mean_squared_error: 0.1095 - dense_12_categorical_accuracy: 0.8553 - dense_12_root_mean_squared_error: 0.1095\n",
      "Epoch 12/50\n",
      "510/510 [==============================] - 270s 530ms/step - loss: 0.0775 - dense_11_loss: 0.0255 - dense_12_loss: 0.0520 - dense_11_categorical_accuracy: 0.8551 - dense_11_root_mean_squared_error: 0.1094 - dense_12_categorical_accuracy: 0.8551 - dense_12_root_mean_squared_error: 0.1094\n",
      "Epoch 13/50\n",
      "510/510 [==============================] - 274s 537ms/step - loss: 0.0705 - dense_11_loss: 0.0179 - dense_12_loss: 0.0526 - dense_11_categorical_accuracy: 0.8553 - dense_11_root_mean_squared_error: 0.1092 - dense_12_categorical_accuracy: 0.8552 - dense_12_root_mean_squared_error: 0.1092\n",
      "Epoch 14/50\n",
      "510/510 [==============================] - 273s 535ms/step - loss: 0.0819 - dense_11_loss: 0.0294 - dense_12_loss: 0.0525 - dense_11_categorical_accuracy: 0.8555 - dense_11_root_mean_squared_error: 0.1090 - dense_12_categorical_accuracy: 0.8555 - dense_12_root_mean_squared_error: 0.1090\n",
      "Epoch 15/50\n",
      "510/510 [==============================] - 273s 535ms/step - loss: 0.0714 - dense_11_loss: 0.0181 - dense_12_loss: 0.0533 - dense_11_categorical_accuracy: 0.8554 - dense_11_root_mean_squared_error: 0.1091 - dense_12_categorical_accuracy: 0.8554 - dense_12_root_mean_squared_error: 0.1091\n",
      "Epoch 16/50\n",
      "510/510 [==============================] - 274s 538ms/step - loss: 0.0634 - dense_11_loss: 0.0103 - dense_12_loss: 0.0531 - dense_11_categorical_accuracy: 0.8555 - dense_11_root_mean_squared_error: 0.1089 - dense_12_categorical_accuracy: 0.8555 - dense_12_root_mean_squared_error: 0.1089\n",
      "Epoch 17/50\n",
      "510/510 [==============================] - 273s 535ms/step - loss: 0.0822 - dense_11_loss: 0.0287 - dense_12_loss: 0.0535 - dense_11_categorical_accuracy: 0.8557 - dense_11_root_mean_squared_error: 0.1089 - dense_12_categorical_accuracy: 0.8556 - dense_12_root_mean_squared_error: 0.1089\n",
      "Epoch 18/50\n",
      "510/510 [==============================] - 273s 536ms/step - loss: 0.0819 - dense_11_loss: 0.0292 - dense_12_loss: 0.0527 - dense_11_categorical_accuracy: 0.8558 - dense_11_root_mean_squared_error: 0.1089 - dense_12_categorical_accuracy: 0.8558 - dense_12_root_mean_squared_error: 0.1089\n",
      "Epoch 19/50\n",
      "510/510 [==============================] - 276s 541ms/step - loss: 0.0690 - dense_11_loss: 0.0168 - dense_12_loss: 0.0522 - dense_11_categorical_accuracy: 0.8559 - dense_11_root_mean_squared_error: 0.1088 - dense_12_categorical_accuracy: 0.8559 - dense_12_root_mean_squared_error: 0.1088\n",
      "Epoch 20/50\n",
      "510/510 [==============================] - 275s 539ms/step - loss: 0.0644 - dense_11_loss: 0.0133 - dense_12_loss: 0.0511 - dense_11_categorical_accuracy: 0.8560 - dense_11_root_mean_squared_error: 0.1087 - dense_12_categorical_accuracy: 0.8560 - dense_12_root_mean_squared_error: 0.1087\n",
      "Epoch 21/50\n",
      "510/510 [==============================] - 275s 540ms/step - loss: 0.0664 - dense_11_loss: 0.0143 - dense_12_loss: 0.0520 - dense_11_categorical_accuracy: 0.8563 - dense_11_root_mean_squared_error: 0.1085 - dense_12_categorical_accuracy: 0.8563 - dense_12_root_mean_squared_error: 0.1085\n",
      "Epoch 22/50\n",
      "510/510 [==============================] - 276s 541ms/step - loss: 0.0750 - dense_11_loss: 0.0213 - dense_12_loss: 0.0537 - dense_11_categorical_accuracy: 0.8564 - dense_11_root_mean_squared_error: 0.1084 - dense_12_categorical_accuracy: 0.8564 - dense_12_root_mean_squared_error: 0.1084\n",
      "Epoch 23/50\n",
      "510/510 [==============================] - 276s 541ms/step - loss: 0.0911 - dense_11_loss: 0.0364 - dense_12_loss: 0.0547 - dense_11_categorical_accuracy: 0.8563 - dense_11_root_mean_squared_error: 0.1084 - dense_12_categorical_accuracy: 0.8563 - dense_12_root_mean_squared_error: 0.1084\n",
      "Epoch 24/50\n",
      "510/510 [==============================] - 274s 537ms/step - loss: 0.0912 - dense_11_loss: 0.0376 - dense_12_loss: 0.0535 - dense_11_categorical_accuracy: 0.8562 - dense_11_root_mean_squared_error: 0.1085 - dense_12_categorical_accuracy: 0.8562 - dense_12_root_mean_squared_error: 0.1085\n",
      "Epoch 25/50\n",
      "510/510 [==============================] - 274s 537ms/step - loss: 0.0636 - dense_11_loss: 0.0098 - dense_12_loss: 0.0538 - dense_11_categorical_accuracy: 0.8563 - dense_11_root_mean_squared_error: 0.1084 - dense_12_categorical_accuracy: 0.8563 - dense_12_root_mean_squared_error: 0.1084\n",
      "Epoch 26/50\n",
      "510/510 [==============================] - 275s 539ms/step - loss: 0.0823 - dense_11_loss: 0.0294 - dense_12_loss: 0.0529 - dense_11_categorical_accuracy: 0.8564 - dense_11_root_mean_squared_error: 0.1083 - dense_12_categorical_accuracy: 0.8564 - dense_12_root_mean_squared_error: 0.1083\n",
      "Epoch 27/50\n",
      "510/510 [==============================] - 274s 537ms/step - loss: 0.0724 - dense_11_loss: 0.0199 - dense_12_loss: 0.0526 - dense_11_categorical_accuracy: 0.8564 - dense_11_root_mean_squared_error: 0.1083 - dense_12_categorical_accuracy: 0.8564 - dense_12_root_mean_squared_error: 0.1083\n",
      "Epoch 28/50\n",
      "510/510 [==============================] - 274s 538ms/step - loss: 0.0611 - dense_11_loss: 0.0094 - dense_12_loss: 0.0517 - dense_11_categorical_accuracy: 0.8565 - dense_11_root_mean_squared_error: 0.1082 - dense_12_categorical_accuracy: 0.8565 - dense_12_root_mean_squared_error: 0.1082\n",
      "Epoch 29/50\n",
      "510/510 [==============================] - 274s 538ms/step - loss: 0.0729 - dense_11_loss: 0.0216 - dense_12_loss: 0.0513 - dense_11_categorical_accuracy: 0.8566 - dense_11_root_mean_squared_error: 0.1081 - dense_12_categorical_accuracy: 0.8566 - dense_12_root_mean_squared_error: 0.1081\n",
      "Epoch 30/50\n",
      "510/510 [==============================] - 273s 536ms/step - loss: 0.0735 - dense_11_loss: 0.0211 - dense_12_loss: 0.0524 - dense_11_categorical_accuracy: 0.8567 - dense_11_root_mean_squared_error: 0.1081 - dense_12_categorical_accuracy: 0.8567 - dense_12_root_mean_squared_error: 0.1081\n",
      "Epoch 31/50\n",
      "510/510 [==============================] - 274s 537ms/step - loss: 0.0663 - dense_11_loss: 0.0127 - dense_12_loss: 0.0535 - dense_11_categorical_accuracy: 0.8568 - dense_11_root_mean_squared_error: 0.1080 - dense_12_categorical_accuracy: 0.8568 - dense_12_root_mean_squared_error: 0.1080\n",
      "Epoch 32/50\n",
      "510/510 [==============================] - 274s 536ms/step - loss: 0.0638 - dense_11_loss: 0.0100 - dense_12_loss: 0.0539 - dense_11_categorical_accuracy: 0.8569 - dense_11_root_mean_squared_error: 0.1079 - dense_12_categorical_accuracy: 0.8569 - dense_12_root_mean_squared_error: 0.1079\n",
      "Epoch 33/50\n",
      "510/510 [==============================] - 274s 537ms/step - loss: 0.0755 - dense_11_loss: 0.0220 - dense_12_loss: 0.0535 - dense_11_categorical_accuracy: 0.8568 - dense_11_root_mean_squared_error: 0.1079 - dense_12_categorical_accuracy: 0.8568 - dense_12_root_mean_squared_error: 0.1079\n",
      "Epoch 34/50\n",
      "510/510 [==============================] - 274s 538ms/step - loss: 0.0681 - dense_11_loss: 0.0154 - dense_12_loss: 0.0527 - dense_11_categorical_accuracy: 0.8568 - dense_11_root_mean_squared_error: 0.1078 - dense_12_categorical_accuracy: 0.8568 - dense_12_root_mean_squared_error: 0.1078\n",
      "Epoch 35/50\n",
      "510/510 [==============================] - 273s 536ms/step - loss: 0.0595 - dense_11_loss: 0.0087 - dense_12_loss: 0.0508 - dense_11_categorical_accuracy: 0.8569 - dense_11_root_mean_squared_error: 0.1078 - dense_12_categorical_accuracy: 0.8569 - dense_12_root_mean_squared_error: 0.1078\n",
      "Epoch 36/50\n",
      "510/510 [==============================] - 275s 540ms/step - loss: 0.0790 - dense_11_loss: 0.0248 - dense_12_loss: 0.0543 - dense_11_categorical_accuracy: 0.8569 - dense_11_root_mean_squared_error: 0.1077 - dense_12_categorical_accuracy: 0.8569 - dense_12_root_mean_squared_error: 0.1077\n",
      "Epoch 37/50\n",
      "510/510 [==============================] - 273s 536ms/step - loss: 0.0705 - dense_11_loss: 0.0181 - dense_12_loss: 0.0524 - dense_11_categorical_accuracy: 0.8570 - dense_11_root_mean_squared_error: 0.1077 - dense_12_categorical_accuracy: 0.8570 - dense_12_root_mean_squared_error: 0.1077\n",
      "Epoch 38/50\n",
      "510/510 [==============================] - 273s 536ms/step - loss: 0.0750 - dense_11_loss: 0.0220 - dense_12_loss: 0.0530 - dense_11_categorical_accuracy: 0.8569 - dense_11_root_mean_squared_error: 0.1077 - dense_12_categorical_accuracy: 0.8569 - dense_12_root_mean_squared_error: 0.1077\n",
      "Epoch 39/50\n",
      "510/510 [==============================] - 272s 534ms/step - loss: 0.0976 - dense_11_loss: 0.0445 - dense_12_loss: 0.0531 - dense_11_categorical_accuracy: 0.8569 - dense_11_root_mean_squared_error: 0.1077 - dense_12_categorical_accuracy: 0.8569 - dense_12_root_mean_squared_error: 0.1077\n",
      "Epoch 40/50\n",
      "510/510 [==============================] - 273s 535ms/step - loss: 0.0584 - dense_11_loss: 0.0050 - dense_12_loss: 0.0534 - dense_11_categorical_accuracy: 0.8569 - dense_11_root_mean_squared_error: 0.1076 - dense_12_categorical_accuracy: 0.8569 - dense_12_root_mean_squared_error: 0.1076\n",
      "Epoch 41/50\n",
      "510/510 [==============================] - 270s 530ms/step - loss: 0.0623 - dense_11_loss: 0.0096 - dense_12_loss: 0.0527 - dense_11_categorical_accuracy: 0.8570 - dense_11_root_mean_squared_error: 0.1076 - dense_12_categorical_accuracy: 0.8570 - dense_12_root_mean_squared_error: 0.1076\n",
      "Epoch 42/50\n",
      "510/510 [==============================] - 267s 523ms/step - loss: 0.0575 - dense_11_loss: 0.0052 - dense_12_loss: 0.0523 - dense_11_categorical_accuracy: 0.8570 - dense_11_root_mean_squared_error: 0.1075 - dense_12_categorical_accuracy: 0.8570 - dense_12_root_mean_squared_error: 0.1075\n",
      "Epoch 43/50\n",
      "510/510 [==============================] - 268s 524ms/step - loss: 0.0802 - dense_11_loss: 0.0270 - dense_12_loss: 0.0532 - dense_11_categorical_accuracy: 0.8570 - dense_11_root_mean_squared_error: 0.1075 - dense_12_categorical_accuracy: 0.8570 - dense_12_root_mean_squared_error: 0.1075\n",
      "Epoch 44/50\n",
      "510/510 [==============================] - 266s 521ms/step - loss: 0.0719 - dense_11_loss: 0.0193 - dense_12_loss: 0.0526 - dense_11_categorical_accuracy: 0.8570 - dense_11_root_mean_squared_error: 0.1075 - dense_12_categorical_accuracy: 0.8570 - dense_12_root_mean_squared_error: 0.1075\n",
      "Epoch 45/50\n",
      "510/510 [==============================] - 266s 521ms/step - loss: 0.0706 - dense_11_loss: 0.0186 - dense_12_loss: 0.0520 - dense_11_categorical_accuracy: 0.8571 - dense_11_root_mean_squared_error: 0.1075 - dense_12_categorical_accuracy: 0.8571 - dense_12_root_mean_squared_error: 0.1075\n",
      "Epoch 46/50\n",
      "510/510 [==============================] - 266s 521ms/step - loss: 0.0600 - dense_11_loss: 0.0070 - dense_12_loss: 0.0530 - dense_11_categorical_accuracy: 0.8572 - dense_11_root_mean_squared_error: 0.1074 - dense_12_categorical_accuracy: 0.8572 - dense_12_root_mean_squared_error: 0.1074\n",
      "Epoch 47/50\n",
      "510/510 [==============================] - 266s 522ms/step - loss: 0.0603 - dense_11_loss: 0.0082 - dense_12_loss: 0.0521 - dense_11_categorical_accuracy: 0.8572 - dense_11_root_mean_squared_error: 0.1074 - dense_12_categorical_accuracy: 0.8572 - dense_12_root_mean_squared_error: 0.1074\n",
      "Epoch 48/50\n",
      "510/510 [==============================] - 274s 537ms/step - loss: 0.0599 - dense_11_loss: 0.0075 - dense_12_loss: 0.0524 - dense_11_categorical_accuracy: 0.8572 - dense_11_root_mean_squared_error: 0.1073 - dense_12_categorical_accuracy: 0.8572 - dense_12_root_mean_squared_error: 0.1073\n",
      "Epoch 49/50\n",
      "510/510 [==============================] - 272s 534ms/step - loss: 0.0637 - dense_11_loss: 0.0110 - dense_12_loss: 0.0527 - dense_11_categorical_accuracy: 0.8573 - dense_11_root_mean_squared_error: 0.1072 - dense_12_categorical_accuracy: 0.8573 - dense_12_root_mean_squared_error: 0.1072\n",
      "Epoch 50/50\n",
      "510/510 [==============================] - 268s 526ms/step - loss: 0.0818 - dense_11_loss: 0.0288 - dense_12_loss: 0.0531 - dense_11_categorical_accuracy: 0.8572 - dense_11_root_mean_squared_error: 0.1072 - dense_12_categorical_accuracy: 0.8572 - dense_12_root_mean_squared_error: 0.1072\n"
     ]
    },
    {
     "name": "stderr",
     "output_type": "stream",
     "text": [
      "/Users/dralbens/opt/anaconda3/lib/python3.8/site-packages/keras/utils/generic_utils.py:494: CustomMaskWarning: Custom mask layers require a config and must override get_config. When loading, the custom mask layer must be passed to the custom_objects argument.\n",
      "  warnings.warn('Custom mask layers require a config and must override '\n"
     ]
    }
   ],
   "source": [
    "model.fit(X_train,[y_train_c,y_train_r],epochs=50,batch_size=8)\n",
    "model.save('/Users/dralbens/Desktop/Trained_Noel/Complete_with_twist.h5')"
   ]
  },
  {
   "cell_type": "markdown",
   "metadata": {},
   "source": [
    "### Using the Model to predict Test data"
   ]
  },
  {
   "cell_type": "code",
   "execution_count": 163,
   "metadata": {},
   "outputs": [],
   "source": [
    "ans=model.predict(X_test)"
   ]
  },
  {
   "cell_type": "code",
   "execution_count": 155,
   "metadata": {},
   "outputs": [],
   "source": [
    "predictions = ans[0]"
   ]
  },
  {
   "cell_type": "code",
   "execution_count": 156,
   "metadata": {},
   "outputs": [
    {
     "data": {
      "text/plain": [
       "array([[1.78337050e-05, 1.10600865e-06, 1.11889054e-09, ...,\n",
       "        1.46378397e-07, 9.99974489e-01, 4.21566983e-06],\n",
       "       [1.18810337e-10, 5.44337263e-06, 9.99994397e-01, ...,\n",
       "        3.84418364e-08, 1.98450180e-11, 1.16446095e-07],\n",
       "       [1.68314722e-12, 9.99999642e-01, 1.82523845e-08, ...,\n",
       "        3.11158061e-07, 2.34075819e-15, 3.02036973e-14],\n",
       "       ...,\n",
       "       [3.96985549e-17, 1.13715898e-10, 1.98726278e-11, ...,\n",
       "        1.00000000e+00, 1.32028355e-09, 1.37895812e-13],\n",
       "       [9.92097446e-11, 1.00000000e+00, 4.32773062e-09, ...,\n",
       "        8.82849793e-10, 4.64171429e-15, 3.38762167e-13],\n",
       "       [7.47450539e-12, 6.28426555e-09, 6.98782401e-07, ...,\n",
       "        1.47493353e-07, 2.12522604e-08, 8.33690379e-08]], dtype=float32)"
      ]
     },
     "execution_count": 156,
     "metadata": {},
     "output_type": "execute_result"
    }
   ],
   "source": [
    "predictions"
   ]
  },
  {
   "cell_type": "markdown",
   "metadata": {},
   "source": [
    "### Threshold classification from the prediction results"
   ]
  },
  {
   "cell_type": "code",
   "execution_count": 157,
   "metadata": {},
   "outputs": [
    {
     "name": "stdout",
     "output_type": "stream",
     "text": [
      "[[0 0 0 ... 0 1 0]\n",
      " [0 0 1 ... 0 0 0]\n",
      " [0 1 0 ... 0 0 0]\n",
      " ...\n",
      " [0 0 0 ... 1 0 0]\n",
      " [0 1 0 ... 0 0 0]\n",
      " [0 0 0 ... 0 0 0]]\n"
     ]
    }
   ],
   "source": [
    "k=0\n",
    "\n",
    "for i in predictions:\n",
    "    m = np.argmax(i)\n",
    "    predictions[k,m]=1\n",
    "    k=k+1\n",
    "    \n",
    "for i in predictions:\n",
    "    for k in range(len(i)):\n",
    "        if i[k]!=1:\n",
    "            i[k]=0\n",
    "pre=predictions.astype(int)\n",
    "print(pre)\n",
    "fact=[]\n",
    "count=0\n",
    "\n",
    "for i,k in zip(predictions,y_test_c):\n",
    "    fact.append(i==k)\n",
    "    if(i.all()==k.all()):\n",
    "        count=count+1\n",
    "predictions=np.asarray(fact)\n",
    "count=0\n",
    "for i in predictions:\n",
    "    if np.all(i)==True:\n",
    "        count=count+1"
   ]
  },
  {
   "cell_type": "markdown",
   "metadata": {},
   "source": [
    "### Visualizing the Classification Accuracy"
   ]
  },
  {
   "cell_type": "code",
   "execution_count": 212,
   "metadata": {},
   "outputs": [],
   "source": [
    "def plotter(x,y):\n",
    "    post1 = []\n",
    "    for i in y:\n",
    "        m = np.where(i==1)\n",
    "        post1.append(int(m[0])+1)\n",
    "    post = []\n",
    "    for i in x:\n",
    "        m = np.where(i==1)\n",
    "        post.append(int(m[0])+1)\n",
    "    f = np.arange(1,len(x)+1)\n",
    "\n",
    "    plt.scatter(f,post,label=\"Training\",s = 800,color='black')\n",
    "    plt.scatter(f,post1,label=\"Predicted\",s=400,color='grey')\n",
    "\n",
    "    plt.legend()\n",
    "    plt.yticks([0,1,2,3,4,5,6,7,8],fontsize=20)\n",
    "    plt.xlabel(\"Audio Samples\").set_size(20)\n",
    "    plt.ylabel(\"Region Present\").set_size(20)\n",
    "    f1 = np.arange(1,len(x)+1)\n",
    "    plt.xticks(f1,fontsize=20)\n",
    "\n",
    "    plt.rcParams[\"figure.figsize\"] = (28.8,10.8)\n"
   ]
  },
  {
   "cell_type": "code",
   "execution_count": 256,
   "metadata": {
    "scrolled": false
   },
   "outputs": [
    {
     "data": {
      "image/png": "[encoded data removed]",
      "text/plain": [
       "<Figure size 2073.6x777.6 with 1 Axes>"
      ]
     },
     "metadata": {
      "needs_background": "light"
     },
     "output_type": "display_data"
    }
   ],
   "source": [
    "k=0\n",
    "savers = ['testone','testtwo']\n",
    "savers1 = ['/Users/dralbens/Desktop/Trained_Noel/setone.png','/Users/dralbens/Desktop/Trained_Noel/settwo.png','/Users/dralbens/Desktop/Trained_Noel/setthree.png','/Users/dralbens/Desktop/Trained_Noel/setfour.png','/Users/dralbens/Desktop/Trained_Noel/setfive.png','/Users/dralbens/Desktop/Trained_Noel/setsix.png','/Users/dralbens/Desktop/Trained_Noel/setseven.png','/Users/dralbens/Desktop/Trained_Noel/set8.png']\n",
    "i=0\n",
    "for z in range(1):\n",
    "    i=i+49\n",
    "    \n",
    "    plt.figure()\n",
    "    plt.title('TEST CASES').set_size(20)\n",
    "    plotter(pre[k:i],y_test_c[k:i])\n",
    "    plt.savefig(savers1[z],dpi=100)\n",
    "    k=i+1\n",
    "\n"
   ]
  },
  {
   "cell_type": "markdown",
   "metadata": {},
   "source": [
    "### Picking the Regions that were predicted accurately from testdata"
   ]
  },
  {
   "cell_type": "code",
   "execution_count": 192,
   "metadata": {},
   "outputs": [],
   "source": [
    "z=[]\n",
    "\n",
    "for i in range(len(fact)):\n",
    "    if (np.all(fact[i],axis=0)):\n",
    "        z.append(i)"
   ]
  },
  {
   "cell_type": "code",
   "execution_count": 193,
   "metadata": {},
   "outputs": [],
   "source": [
    "result=[]\n",
    "for i in z:\n",
    "    res=np.where(pre[i]==1)\n",
    "    res=res[0]+1\n",
    "    result.append(res[0])"
   ]
  },
  {
   "cell_type": "code",
   "execution_count": 196,
   "metadata": {},
   "outputs": [],
   "source": [
    "anglea=[]\n",
    "anglep=[]\n",
    "#y_train_r=y_train_r.to_numpy(dtype='float32')\n",
    "\n",
    "for i in z:\n",
    "    anglea.append(y_train_r[i][0])\n",
    "    anglep.append(ans[1][i][0])\n",
    "anglep=np.array(anglep)"
   ]
  },
  {
   "cell_type": "markdown",
   "metadata": {},
   "source": [
    "### Decoding the angle regression predictions"
   ]
  },
  {
   "cell_type": "code",
   "execution_count": 201,
   "metadata": {},
   "outputs": [],
   "source": [
    "angmax=0\n",
    "angmin=0\n",
    "actualdeg=[]\n",
    "preddeg=[]\n",
    "for i in range(len(result)):\n",
    "    if(result[i]==1):\n",
    "        angmax=315\n",
    "        angmin=270\n",
    "    elif(result[i]==2):\n",
    "        angmax=360\n",
    "        angmin=315\n",
    "    elif(result[i]==3):\n",
    "        angmax=45\n",
    "        angmin=0\n",
    "    elif(result[i]==4):\n",
    "        angmax=90\n",
    "        angmin=45\n",
    "    elif(result[i]==5):\n",
    "        angmax=135\n",
    "        angmin=90\n",
    "    elif(result[i]==6):\n",
    "        angmax=180\n",
    "        angmin=135\n",
    "    elif(result[i]==7):\n",
    "        angmax=225\n",
    "        angmin=180\n",
    "    else:\n",
    "        angmax=270\n",
    "        angmin=225\n",
    "    actualdeg.append(anglea[i]*45+angmin)\n",
    "    preddeg.append(anglep[i]*45+angmin)"
   ]
  },
  {
   "cell_type": "markdown",
   "metadata": {},
   "source": [
    "### Saving the Predictions into csv format for comparison"
   ]
  },
  {
   "cell_type": "code",
   "execution_count": 247,
   "metadata": {},
   "outputs": [
    {
     "data": {
      "text/html": [
       "<div>\n",
       "<style scoped>\n",
       "    .dataframe tbody tr th:only-of-type {\n",
       "        vertical-align: middle;\n",
       "    }\n",
       "\n",
       "    .dataframe tbody tr th {\n",
       "        vertical-align: top;\n",
       "    }\n",
       "\n",
       "    .dataframe thead th {\n",
       "        text-align: right;\n",
       "    }\n",
       "</style>\n",
       "<table border=\"1\" class=\"dataframe\">\n",
       "  <thead>\n",
       "    <tr style=\"text-align: right;\">\n",
       "      <th></th>\n",
       "      <th>actual</th>\n",
       "      <th>predicted</th>\n",
       "    </tr>\n",
       "  </thead>\n",
       "  <tbody>\n",
       "    <tr>\n",
       "      <th>0</th>\n",
       "      <td>192.054927</td>\n",
       "      <td>202.376824</td>\n",
       "    </tr>\n",
       "    <tr>\n",
       "      <th>1</th>\n",
       "      <td>38.508178</td>\n",
       "      <td>22.466704</td>\n",
       "    </tr>\n",
       "    <tr>\n",
       "      <th>2</th>\n",
       "      <td>326.241011</td>\n",
       "      <td>338.056743</td>\n",
       "    </tr>\n",
       "    <tr>\n",
       "      <th>3</th>\n",
       "      <td>64.818610</td>\n",
       "      <td>67.291650</td>\n",
       "    </tr>\n",
       "    <tr>\n",
       "      <th>4</th>\n",
       "      <td>111.462894</td>\n",
       "      <td>113.441276</td>\n",
       "    </tr>\n",
       "    <tr>\n",
       "      <th>5</th>\n",
       "      <td>248.720242</td>\n",
       "      <td>247.026224</td>\n",
       "    </tr>\n",
       "    <tr>\n",
       "      <th>6</th>\n",
       "      <td>294.683022</td>\n",
       "      <td>292.628518</td>\n",
       "    </tr>\n",
       "    <tr>\n",
       "      <th>7</th>\n",
       "      <td>146.740221</td>\n",
       "      <td>156.180672</td>\n",
       "    </tr>\n",
       "    <tr>\n",
       "      <th>8</th>\n",
       "      <td>97.987347</td>\n",
       "      <td>112.989559</td>\n",
       "    </tr>\n",
       "    <tr>\n",
       "      <th>9</th>\n",
       "      <td>92.727174</td>\n",
       "      <td>113.724139</td>\n",
       "    </tr>\n",
       "  </tbody>\n",
       "</table>\n",
       "</div>"
      ],
      "text/plain": [
       "       actual   predicted\n",
       "0  192.054927  202.376824\n",
       "1   38.508178   22.466704\n",
       "2  326.241011  338.056743\n",
       "3   64.818610   67.291650\n",
       "4  111.462894  113.441276\n",
       "5  248.720242  247.026224\n",
       "6  294.683022  292.628518\n",
       "7  146.740221  156.180672\n",
       "8   97.987347  112.989559\n",
       "9   92.727174  113.724139"
      ]
     },
     "execution_count": 247,
     "metadata": {},
     "output_type": "execute_result"
    }
   ],
   "source": [
    "df = pd.DataFrame(list(zip(actualdeg,preddeg)),columns=['actual','predicted'])\n",
    "df.to_csv('/Users/dralbens/Desktop/Trained_Noel/Compare_Angle.csv')\n",
    "df[0:10]"
   ]
  },
  {
   "cell_type": "markdown",
   "metadata": {},
   "source": [
    "### Calculating Mean Absolute Error in Degrees for Angle Regression Outputs"
   ]
  },
  {
   "cell_type": "code",
   "execution_count": 227,
   "metadata": {},
   "outputs": [
    {
     "data": {
      "text/plain": [
       "10.27155641322805"
      ]
     },
     "execution_count": 227,
     "metadata": {},
     "output_type": "execute_result"
    }
   ],
   "source": [
    "mae = mean_absolute_error(actualdeg,preddeg)\n",
    "mae"
   ]
  },
  {
   "cell_type": "markdown",
   "metadata": {},
   "source": [
    "### Decoding the Distance regression outputs"
   ]
  },
  {
   "cell_type": "code",
   "execution_count": 161,
   "metadata": {},
   "outputs": [],
   "source": [
    "dmax = 2.557999\n",
    "dmin=0.0055702760952"
   ]
  },
  {
   "cell_type": "code",
   "execution_count": 180,
   "metadata": {},
   "outputs": [],
   "source": [
    "anstest_dist=[]\n",
    "for i in range(len(y_test_r)):\n",
    "    temp = ans[1][i][1]*(dmax-dmin)+dmin\n",
    "    anstest_dist.append(temp)\n"
   ]
  },
  {
   "cell_type": "code",
   "execution_count": 182,
   "metadata": {},
   "outputs": [],
   "source": [
    "y_test_r = np.asarray(y_test_r)"
   ]
  },
  {
   "cell_type": "code",
   "execution_count": 184,
   "metadata": {},
   "outputs": [],
   "source": [
    "ytest_dist=[]\n",
    "for i in range(len(y_test_r)):\n",
    "    temp = y_test_r[i][1]*(dmax-dmin)+dmin\n",
    "    ytest_dist.append(temp)\n"
   ]
  },
  {
   "cell_type": "markdown",
   "metadata": {},
   "source": [
    "### Calculating Mean Absolute Error for Distance prediction"
   ]
  },
  {
   "cell_type": "code",
   "execution_count": 222,
   "metadata": {},
   "outputs": [],
   "source": [
    "mae =mean_absolute_error(anstest_dist,ytest_dist)"
   ]
  },
  {
   "cell_type": "code",
   "execution_count": 223,
   "metadata": {},
   "outputs": [
    {
     "data": {
      "text/plain": [
       "0.38424164178578835"
      ]
     },
     "execution_count": 223,
     "metadata": {},
     "output_type": "execute_result"
    }
   ],
   "source": [
    "mae"
   ]
  },
  {
   "cell_type": "markdown",
   "metadata": {},
   "source": [
    "### Saving the distance regression outputs in csv format for comparison"
   ]
  },
  {
   "cell_type": "code",
   "execution_count": 246,
   "metadata": {},
   "outputs": [
    {
     "data": {
      "text/html": [
       "<div>\n",
       "<style scoped>\n",
       "    .dataframe tbody tr th:only-of-type {\n",
       "        vertical-align: middle;\n",
       "    }\n",
       "\n",
       "    .dataframe tbody tr th {\n",
       "        vertical-align: top;\n",
       "    }\n",
       "\n",
       "    .dataframe thead th {\n",
       "        text-align: right;\n",
       "    }\n",
       "</style>\n",
       "<table border=\"1\" class=\"dataframe\">\n",
       "  <thead>\n",
       "    <tr style=\"text-align: right;\">\n",
       "      <th></th>\n",
       "      <th>Actual</th>\n",
       "      <th>Predicted</th>\n",
       "    </tr>\n",
       "  </thead>\n",
       "  <tbody>\n",
       "    <tr>\n",
       "      <th>0</th>\n",
       "      <td>1.641076</td>\n",
       "      <td>0.860226</td>\n",
       "    </tr>\n",
       "    <tr>\n",
       "      <th>1</th>\n",
       "      <td>0.390677</td>\n",
       "      <td>0.812933</td>\n",
       "    </tr>\n",
       "    <tr>\n",
       "      <th>2</th>\n",
       "      <td>1.101486</td>\n",
       "      <td>0.667248</td>\n",
       "    </tr>\n",
       "    <tr>\n",
       "      <th>3</th>\n",
       "      <td>1.981481</td>\n",
       "      <td>1.751100</td>\n",
       "    </tr>\n",
       "    <tr>\n",
       "      <th>4</th>\n",
       "      <td>1.623022</td>\n",
       "      <td>1.336593</td>\n",
       "    </tr>\n",
       "    <tr>\n",
       "      <th>5</th>\n",
       "      <td>0.693736</td>\n",
       "      <td>1.734495</td>\n",
       "    </tr>\n",
       "    <tr>\n",
       "      <th>6</th>\n",
       "      <td>1.401024</td>\n",
       "      <td>1.738194</td>\n",
       "    </tr>\n",
       "    <tr>\n",
       "      <th>7</th>\n",
       "      <td>0.127814</td>\n",
       "      <td>0.706831</td>\n",
       "    </tr>\n",
       "    <tr>\n",
       "      <th>8</th>\n",
       "      <td>0.632386</td>\n",
       "      <td>1.453747</td>\n",
       "    </tr>\n",
       "    <tr>\n",
       "      <th>9</th>\n",
       "      <td>1.338522</td>\n",
       "      <td>1.497801</td>\n",
       "    </tr>\n",
       "  </tbody>\n",
       "</table>\n",
       "</div>"
      ],
      "text/plain": [
       "     Actual  Predicted\n",
       "0  1.641076   0.860226\n",
       "1  0.390677   0.812933\n",
       "2  1.101486   0.667248\n",
       "3  1.981481   1.751100\n",
       "4  1.623022   1.336593\n",
       "5  0.693736   1.734495\n",
       "6  1.401024   1.738194\n",
       "7  0.127814   0.706831\n",
       "8  0.632386   1.453747\n",
       "9  1.338522   1.497801"
      ]
     },
     "execution_count": 246,
     "metadata": {},
     "output_type": "execute_result"
    }
   ],
   "source": [
    "df = pd.DataFrame(list(zip(ytest_dist,anstest_dist)), columns = ['Actual','Predicted'])\n",
    "df.to_csv('/Users/dralbens/Desktop/Trained_Noel/Compare.csv')\n",
    "df[0:10]"
   ]
  },
  {
   "cell_type": "markdown",
   "metadata": {},
   "source": [
    "### Extracting the predicted regression outputs to plot the predicted source Locations"
   ]
  },
  {
   "cell_type": "code",
   "execution_count": 252,
   "metadata": {},
   "outputs": [],
   "source": [
    "def sc_plot(pred,act,color1,color2):\n",
    "    \n",
    "    for i in range(len(pred)):\n",
    "        p=plt.scatter(pred[i][0],pred[i][1],c=color1)\n",
    "        a=plt.scatter(act[i][0],act[i][1],c=color2)\n",
    "    plt.legend((p,a),['predicted','actual'])"
   ]
  },
  {
   "cell_type": "markdown",
   "metadata": {},
   "source": [
    "### UCA Locations and ROOM edges"
   ]
  },
  {
   "cell_type": "code",
   "execution_count": 253,
   "metadata": {},
   "outputs": [],
   "source": [
    "M = [4.3066, 1.6934]\n",
    "M1 = [5.0565,2.4434]\n",
    "M2 = [1.6934, 4.3066]\n",
    "M3 = [5.0565999995, 2.4434]\n",
    "M4=[3.0,3.0]\n",
    "M5 = [5.5978,1.9022]\n",
    "M6 = [4.8478,1.1522]\n",
    "M7=[3.75,3.75]\n",
    "Mx=np.asarray([3.2121,3.0,2.7878,2.7,2.7878,3.0,3.2121,3.3,3])\n",
    "My=np.asarray([3.96,4.05,3.96,3.75,3.53,3.45,3.53,3.75,3.75])"
   ]
  },
  {
   "cell_type": "markdown",
   "metadata": {},
   "source": [
    "### Projecting radial distance and angle on the X and Y axis "
   ]
  },
  {
   "cell_type": "code",
   "execution_count": 254,
   "metadata": {},
   "outputs": [],
   "source": [
    "def plotpoint(r,theta):\n",
    "    center=[3,3.75]\n",
    "    if(theta<90):\n",
    "        theta=theta*(math.pi/180)\n",
    "        y=3.75+(r*math.cos(theta))\n",
    "        x=3-(r*math.sin(theta))\n",
    "    elif(theta>90 and theta<180):\n",
    "        theta =theta-90\n",
    "        theta=theta*(math.pi/180)\n",
    "        y=3.75-(r*math.sin(theta))\n",
    "        x=3-(r*math.cos(theta))\n",
    "    elif(theta>180 and theta<270):\n",
    "        theta =theta-180\n",
    "        theta=theta*(math.pi/180)\n",
    "        y=3.75-(r*math.cos(theta))\n",
    "        x=3+(r*math.sin(theta))\n",
    "    else:\n",
    "        theta =theta-270\n",
    "        theta=theta*(math.pi/180)\n",
    "        y=3.75+(r*math.sin(theta))\n",
    "        x=3+(r*math.cos(theta))\n",
    "    return(x,y)"
   ]
  },
  {
   "cell_type": "code",
   "execution_count": 255,
   "metadata": {
    "scrolled": false
   },
   "outputs": [
    {
     "data": {
      "image/png": "[encoded data removed]",
      "text/plain": [
       "<Figure size 2073.6x777.6 with 1 Axes>"
      ]
     },
     "metadata": {
      "needs_background": "light"
     },
     "output_type": "display_data"
    }
   ],
   "source": [
    "plt.plot(M,M1,'ko',color='white')\n",
    "plt.plot(M,M1,color='black')\n",
    "Mlinex = [M[0],M4[0],M2[0],M6[1],M[1],M4[1],M2[1],M6[0],M[0]]\n",
    "Mliney = [M1[0],M5[0],M3[0],M7[1],M1[1],M5[1],M3[1],M7[0],M1[0]]\n",
    "# plt.plot(Mlinex,Mliney,'--')\n",
    "plt.plot(M2,M3,'ko',color='white')\n",
    "plt.plot(M4,M5,'ko',color='white')\n",
    "plt.plot(M6,M7,'ko',color='white')\n",
    "plt.plot(M2,M3,color='black')\n",
    "plt.plot(M4,M5,color='black')\n",
    "plt.plot(M6,M7,color='black')\n",
    "plt.scatter(Mx,My,marker='^',color='#000000')\n",
    "\n",
    "pred=[]\n",
    "act=[]\n",
    "act.append(plotpoint(1.716,292))\n",
    "pred.append(plotpoint(1.56,290))\n",
    "act.append(plotpoint(0.67,156))\n",
    "pred.append(plotpoint(0.86,155))\n",
    "act.append(plotpoint(0.7757,22.32))\n",
    "pred.append(plotpoint(0.789,18.24))\n",
    "act.append(plotpoint(1.784,246.9))\n",
    "pred.append(plotpoint(1.714,233.60))\n",
    "act.append(plotpoint(0.6603,201.7))\n",
    "pred.append(plotpoint(0.2466,206.6))\n",
    "act.append(plotpoint(0.7021,103.49))\n",
    "pred.append(plotpoint(0.7660981,97.688))\n",
    "act.append(plotpoint(1.80,337.9))\n",
    "pred.append(plotpoint(1.49,338))\n",
    "act.append(plotpoint(1.59,67.2))\n",
    "pred.append(plotpoint(1.60,60.68))\n",
    "sc_plot(pred,act,'#2ca02c','#ff0000')\n",
    "\n",
    "# pl1=sc_plot(pred,'#2ca02c')\n",
    "# pl2=sc_plot(act,'#ff0000')\n",
    "plt.xlabel('X coordinates ')\n",
    "plt.ylabel('Y coordinates ')\n",
    "plt.title('Reverberant data')\n",
    "plt.savefig('Reverberant_predicted_noline.png',dpi=200)\n",
    "# plt.legend([pred,act])"
   ]
  },
  {
   "cell_type": "markdown",
   "metadata": {},
   "source": [
    "### Generating the requirements.txt file"
   ]
  },
  {
   "cell_type": "code",
   "execution_count": null,
   "metadata": {},
   "outputs": [],
   "source": [
    "import pkg_resources\n",
    "import types\n",
    "def get_imports():\n",
    "    for name, val in globals().items():\n",
    "        if isinstance(val, types.ModuleType):\n",
    "            # Split ensures you get root package, \n",
    "            # not just imported function\n",
    "            name = val.__name__.split(\".\")[0]\n",
    "\n",
    "        elif isinstance(val, type):\n",
    "            name = val.__module__.split(\".\")[0]\n",
    "\n",
    "        # Some packages are weird and have different\n",
    "        # imported names vs. system/pip names. Unfortunately,\n",
    "        # there is no systematic way to get pip names from\n",
    "        # a package's imported name. You'll have to add\n",
    "        # exceptions to this list manually!\n",
    "        poorly_named_packages = {\n",
    "            \"PIL\": \"Pillow\",\n",
    "            \"sklearn\": \"scikit-learn\"\n",
    "        }\n",
    "        if name in poorly_named_packages.keys():\n",
    "            name = poorly_named_packages[name]\n",
    "\n",
    "        yield name\n",
    "imports = list(set(get_imports()))\n",
    "\n",
    "# The only way I found to get the version of the root package\n",
    "# from only the name of the package is to cross-check the names \n",
    "# of installed packages vs. imported packages\n",
    "requirements = []\n",
    "for m in pkg_resources.working_set:\n",
    "    if m.project_name in imports and m.project_name!=\"pip\":\n",
    "        requirements.append((m.project_name, m.version))\n",
    "\n",
    "for r in requirements:\n",
    "    print(\"{}=={}\".format(*r))"
   ]
  }
 ],
 "metadata": {
  "kernelspec": {
   "display_name": "Python 3",
   "language": "python",
   "name": "python3"
  },
  "language_info": {
   "codemirror_mode": {
    "name": "ipython",
    "version": 3
   },
   "file_extension": ".py",
   "mimetype": "text/x-python",
   "name": "python",
   "nbconvert_exporter": "python",
   "pygments_lexer": "ipython3",
   "version": "3.8.8"
  }
 },
 "nbformat": 4,
 "nbformat_minor": 2
}

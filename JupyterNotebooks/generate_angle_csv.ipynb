{
 "cells": [
  {
   "cell_type": "code",
   "execution_count": 3,
   "metadata": {},
   "outputs": [],
   "source": [
    "import os\n",
    "#import scandir\n",
    "filepaths=[]\n",
    "di = r'E:\\Final year project\\datasets\\HVsundar_dataset\\RIR-Generator-master\\big_testdata'\n",
    "for subdir,dirs,files in os.walk(di):\n",
    "    for filename in files:\n",
    "        filepath = subdir + os.sep + filename\n",
    "        filepaths.append(str(filepath))\n",
    "#print(filepaths)\n"
   ]
  },
  {
   "cell_type": "code",
   "execution_count": 2,
   "metadata": {},
   "outputs": [],
   "source": [
    "x=[]\n",
    "y=[]\n",
    "theta=[]\n",
    "for i in filepaths:\n",
    "    start=i.index('[')\n",
    "    end=i.index(']')\n",
    "    st=i[start+1:end]\n",
    "    st=st.split()\n",
    "    x.append(st[0])\n",
    "    y.append(st[1])\n",
    "    theta.append(st[3])\n"
   ]
  },
  {
   "cell_type": "code",
   "execution_count": 3,
   "metadata": {},
   "outputs": [],
   "source": [
    "import math\n",
    "center=[3,3.75]\n",
    "dist=[]\n",
    "angle=[]\n",
    "dmax=2\n",
    "dmin=0.298\n",
    "for i in range(len(x)):\n",
    "    dist.append(((math.sqrt((center[0]-float(x[i]))**2+(center[1]-float(y[i]))**2))-dmin)/(dmax-dmin))\n",
    "    if(float(theta[i])<45):\n",
    "        angle.append((float(theta[i]))/45)\n",
    "    elif(float(theta[i])>45 and float(theta[i])<90):\n",
    "        angle.append((float(theta[i])-45)/45)\n",
    "    elif(float(theta[i])>90 and float(theta[i])<135):\n",
    "        angle.append((float(theta[i])-90)/45)\n",
    "    elif(float(theta[i])>135 and float(theta[i])<180):\n",
    "        angle.append((float(theta[i])-135)/45)\n",
    "    elif(float(theta[i])>180 and float(theta[i])<225):\n",
    "        angle.append((float(theta[i])-180)/45)\n",
    "    elif(float(theta[i])>225 and float(theta[i])<270):\n",
    "        angle.append((float(theta[i])-225)/45)\n",
    "    elif(float(theta[i])>270 and float(theta[i])<315):\n",
    "        angle.append((float(theta[i])-270)/45)\n",
    "    else:\n",
    "        angle.append((float(theta[i])-315)/45)\n"
   ]
  },
  {
   "cell_type": "code",
   "execution_count": 4,
   "metadata": {},
   "outputs": [
    {
     "data": {
      "text/plain": [
       "0.002752165259444281"
      ]
     },
     "execution_count": 4,
     "metadata": {},
     "output_type": "execute_result"
    }
   ],
   "source": [
    "min(angle)"
   ]
  },
  {
   "cell_type": "code",
   "execution_count": 5,
   "metadata": {},
   "outputs": [],
   "source": [
    "import pandas as pd\n",
    "df=pd.DataFrame(list(zip(dist, angle)), columns = ['dist','angle'])"
   ]
  },
  {
   "cell_type": "code",
   "execution_count": 6,
   "metadata": {},
   "outputs": [],
   "source": [
    "df1=pd.DataFrame(columns=['dist','angle'])\n",
    "for i in range(0,len(x),8):\n",
    "    df1=df1.append({'dist':df.loc[i][0],'angle':df.loc[i][1]},ignore_index=True)\n",
    "    \n",
    "\n",
    "\n"
   ]
  },
  {
   "cell_type": "code",
   "execution_count": 7,
   "metadata": {
    "scrolled": true
   },
   "outputs": [
    {
     "data": {
      "text/html": [
       "<div>\n",
       "<style scoped>\n",
       "    .dataframe tbody tr th:only-of-type {\n",
       "        vertical-align: middle;\n",
       "    }\n",
       "\n",
       "    .dataframe tbody tr th {\n",
       "        vertical-align: top;\n",
       "    }\n",
       "\n",
       "    .dataframe thead th {\n",
       "        text-align: right;\n",
       "    }\n",
       "</style>\n",
       "<table border=\"1\" class=\"dataframe\">\n",
       "  <thead>\n",
       "    <tr style=\"text-align: right;\">\n",
       "      <th></th>\n",
       "      <th>dist</th>\n",
       "      <th>angle</th>\n",
       "    </tr>\n",
       "  </thead>\n",
       "  <tbody>\n",
       "    <tr>\n",
       "      <th>0</th>\n",
       "      <td>0.034426</td>\n",
       "      <td>0.615536</td>\n",
       "    </tr>\n",
       "    <tr>\n",
       "      <th>1</th>\n",
       "      <td>0.076440</td>\n",
       "      <td>0.651735</td>\n",
       "    </tr>\n",
       "    <tr>\n",
       "      <th>2</th>\n",
       "      <td>0.106947</td>\n",
       "      <td>0.323891</td>\n",
       "    </tr>\n",
       "    <tr>\n",
       "      <th>3</th>\n",
       "      <td>0.113415</td>\n",
       "      <td>0.253541</td>\n",
       "    </tr>\n",
       "    <tr>\n",
       "      <th>4</th>\n",
       "      <td>0.124945</td>\n",
       "      <td>0.312338</td>\n",
       "    </tr>\n",
       "    <tr>\n",
       "      <th>...</th>\n",
       "      <td>...</td>\n",
       "      <td>...</td>\n",
       "    </tr>\n",
       "    <tr>\n",
       "      <th>1595</th>\n",
       "      <td>0.828992</td>\n",
       "      <td>0.910328</td>\n",
       "    </tr>\n",
       "    <tr>\n",
       "      <th>1596</th>\n",
       "      <td>0.837813</td>\n",
       "      <td>0.884638</td>\n",
       "    </tr>\n",
       "    <tr>\n",
       "      <th>1597</th>\n",
       "      <td>0.847631</td>\n",
       "      <td>0.813228</td>\n",
       "    </tr>\n",
       "    <tr>\n",
       "      <th>1598</th>\n",
       "      <td>0.852660</td>\n",
       "      <td>0.793968</td>\n",
       "    </tr>\n",
       "    <tr>\n",
       "      <th>1599</th>\n",
       "      <td>0.849122</td>\n",
       "      <td>0.893907</td>\n",
       "    </tr>\n",
       "  </tbody>\n",
       "</table>\n",
       "<p>1600 rows × 2 columns</p>\n",
       "</div>"
      ],
      "text/plain": [
       "          dist     angle\n",
       "0     0.034426  0.615536\n",
       "1     0.076440  0.651735\n",
       "2     0.106947  0.323891\n",
       "3     0.113415  0.253541\n",
       "4     0.124945  0.312338\n",
       "...        ...       ...\n",
       "1595  0.828992  0.910328\n",
       "1596  0.837813  0.884638\n",
       "1597  0.847631  0.813228\n",
       "1598  0.852660  0.793968\n",
       "1599  0.849122  0.893907\n",
       "\n",
       "[1600 rows x 2 columns]"
      ]
     },
     "execution_count": 7,
     "metadata": {},
     "output_type": "execute_result"
    }
   ],
   "source": [
    "df1"
   ]
  },
  {
   "cell_type": "code",
   "execution_count": 9,
   "metadata": {},
   "outputs": [],
   "source": [
    "df1.to_csv('big_testdata.csv',index=False)"
   ]
  },
  {
   "cell_type": "code",
   "execution_count": 61,
   "metadata": {},
   "outputs": [
    {
     "name": "stderr",
     "output_type": "stream",
     "text": [
      "Using TensorFlow backend.\n"
     ]
    }
   ],
   "source": [
    "import numpy as np\n",
    "import tensorflow as tf\n",
    "\n",
    "from keras.models import load_model\n",
    "import wave\n",
    "import os\n",
    "import glob\n",
    "import librosa\n",
    "import numpy as np\n",
    "import scipy.io.wavfile as wav\n",
    "import scipy.signal as signal\n",
    "import matplotlib.pyplot as plt\n",
    "import keras\n",
    "from keras.models import Sequential\n",
    "from keras.layers import (Conv1D, MaxPool1D,MaxPool2D, BatchNormalization, GlobalAvgPool1D, Multiply, GlobalMaxPool1D,\n",
    "                                     Dense, Dropout, Activation, Reshape, Concatenate, Add)\n",
    "from keras.layers import Input\n",
    "from keras.utils import np_utils\n",
    "from keras.layers import MaxPooling2D\n",
    "from keras.layers import Flatten\n",
    "from keras.layers import Dense\n",
    "from keras.models import load_model\n",
    "import pandas as pd\n",
    "from tensorflow.keras import Model\n",
    "from keras.layers import InputLayer\n",
    "from keras.layers import Lambda\n",
    "from keras import backend as K\n",
    "from keras.regularizers import l2\n",
    "from sklearn.model_selection import StratifiedKFold"
   ]
  },
  {
   "cell_type": "code",
   "execution_count": null,
   "metadata": {},
   "outputs": [],
   "source": []
  }
 ],
 "metadata": {
  "kernelspec": {
   "display_name": "Python 3",
   "language": "python",
   "name": "python3"
  },
  "language_info": {
   "codemirror_mode": {
    "name": "ipython",
    "version": 3
   },
   "file_extension": ".py",
   "mimetype": "text/x-python",
   "name": "python",
   "nbconvert_exporter": "python",
   "pygments_lexer": "ipython3",
   "version": "3.6.12"
  }
 },
 "nbformat": 4,
 "nbformat_minor": 4
}
